{
 "cells": [
  {
   "cell_type": "code",
   "execution_count": 1,
   "metadata": {},
   "outputs": [],
   "source": [
    "import numpy as np\n",
    "from tmu.models.classification.vanilla_classifier import TMClassifier"
   ]
  },
  {
   "cell_type": "code",
   "execution_count": 2,
   "metadata": {},
   "outputs": [],
   "source": [
    "data_short = np.load('Data/lorfs_100.npz')\n",
    "data_medium = np.load('Data/lorfs_400.npz')\n",
    "data_long = np.load('Data/lorfs_1000.npz')\n"
   ]
  },
  {
   "cell_type": "code",
   "execution_count": 3,
   "metadata": {},
   "outputs": [],
   "source": [
    "from sklearn.metrics import accuracy_score, f1_score\n",
    "\n",
    "# Function to train, evaluate, and save the model\n",
    "def train_and_evaluate(X_train, y_train, X_test, y_test, description):\n",
    "\n",
    "    # Train the model\n",
    "    tm = TMClassifier(10000,8000,2.0)\n",
    "    tm.fit(X_train, y_train)\n",
    "\n",
    "    # Make predictions\n",
    "    preds = tm.predict(X_test)\n",
    "    #predictions = [1 if i > 0.5 else 0 for i in preds]\n",
    "\n",
    "    # Evaluate the model\n",
    "    accuracy = accuracy_score(y_test, preds)\n",
    "    f1 = f1_score(y_test, preds)\n",
    "\n",
    "    # Print the results\n",
    "    print(f\"Results for {description}:\")\n",
    "    print(f\"Accuracy: {accuracy:.4f}\")\n",
    "    print(f\"F1 Score: {f1:.4f}\\n\")\n",
    "\n"
   ]
  },
  {
   "cell_type": "code",
   "execution_count": 4,
   "metadata": {},
   "outputs": [
    {
     "name": "stdout",
     "output_type": "stream",
     "text": [
      "Results for Short Dataset:\n",
      "Accuracy: 0.5850\n",
      "F1 Score: 0.6453\n",
      "\n"
     ]
    }
   ],
   "source": [
    "X_train_short = data_short['X_train']\n",
    "X_test_short = data_short['X_test']\n",
    "y_train_short = data_short['y_train']\n",
    "y_test_short = data_short['y_test']\n",
    "\n",
    "# select the first 1000 samples for x_train\n",
    "X_train_short = X_train_short[:1000]\n",
    "y_train_short = y_train_short[:1000]\n",
    "X_train_short = X_train_short.reshape(X_train_short.shape[0], -1)\n",
    "X_test_short = X_test_short.reshape(X_test_short.shape[0], -1)\n",
    "train_and_evaluate(X_train_short, y_train_short, X_test_short, y_test_short, \"Short Dataset\")"
   ]
  },
  {
   "cell_type": "code",
   "execution_count": 5,
   "metadata": {},
   "outputs": [
    {
     "name": "stdout",
     "output_type": "stream",
     "text": [
      "Results for Medium Dataset:\n",
      "Accuracy: 0.7289\n",
      "F1 Score: 0.7553\n",
      "\n"
     ]
    }
   ],
   "source": [
    "# remove from memory\n",
    "del X_train_short, X_test_short, y_train_short, y_test_short\n",
    "X_train_medium = data_medium['X_train']\n",
    "X_test_medium = data_medium['X_test']\n",
    "y_train_medium = data_medium['y_train']\n",
    "y_test_medium = data_medium['y_test']\n",
    "\n",
    "# select the first 1000 samples for x_train\n",
    "X_train_medium = X_train_medium[:1000]\n",
    "y_train_medium = y_train_medium[:1000]\n",
    "X_train_medium = X_train_medium.reshape(X_train_medium.shape[0], -1)\n",
    "X_test_medium = X_test_medium.reshape(X_test_medium.shape[0], -1)\n",
    "train_and_evaluate(X_train_medium, y_train_medium, X_test_medium, y_test_medium, \"Medium Dataset\")"
   ]
  },
  {
   "cell_type": "code",
   "execution_count": 6,
   "metadata": {},
   "outputs": [
    {
     "name": "stdout",
     "output_type": "stream",
     "text": [
      "Results for Long Dataset:\n",
      "Accuracy: 0.7978\n",
      "F1 Score: 0.8215\n",
      "\n"
     ]
    }
   ],
   "source": [
    "# remove from memory\n",
    "del X_train_medium, X_test_medium, y_train_medium, y_test_medium\n",
    "X_train_long = data_long['X_train']\n",
    "X_test_long = data_long['X_test']\n",
    "y_train_long = data_long['y_train']\n",
    "y_test_long = data_long['y_test']\n",
    "\n",
    "# select the first 1000 samples for x_train\n",
    "X_train_long = X_train_long[:1000]\n",
    "y_train_long = y_train_long[:1000]\n",
    "X_train_long = X_train_long.reshape(X_train_long.shape[0], -1)\n",
    "X_test_long = X_test_long.reshape(X_test_long.shape[0], -1)\n",
    "train_and_evaluate(X_train_long, y_train_long, X_test_long, y_test_long, \"Long Dataset\")"
   ]
  }
 ],
 "metadata": {
  "kernelspec": {
   "display_name": "tsetlin",
   "language": "python",
   "name": "python3"
  },
  "language_info": {
   "codemirror_mode": {
    "name": "ipython",
    "version": 3
   },
   "file_extension": ".py",
   "mimetype": "text/x-python",
   "name": "python",
   "nbconvert_exporter": "python",
   "pygments_lexer": "ipython3",
   "version": "3.11.7"
  }
 },
 "nbformat": 4,
 "nbformat_minor": 2
}
