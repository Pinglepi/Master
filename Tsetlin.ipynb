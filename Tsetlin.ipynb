{
 "cells": [
  {
   "cell_type": "code",
   "execution_count": 1,
   "metadata": {},
   "outputs": [],
   "source": [
    "import numpy as np\n",
    "from tmu.models.classification.vanilla_classifier import TMClassifier\n",
    "from tmu.tools import BenchmarkTimer\n",
    "import logging\n",
    "import os"
   ]
  },
  {
   "cell_type": "code",
   "execution_count": 2,
   "metadata": {},
   "outputs": [],
   "source": [
    "data_short = np.load('Data/lorfs_100.npz')\n",
    "data_medium = np.load('Data/lorfs_400.npz')\n",
    "data_long = np.load('Data/lorfs_1000.npz')\n",
    "_LOGGER = logging.getLogger(__name__)\n"
   ]
  },
  {
   "cell_type": "code",
   "execution_count": 3,
   "metadata": {},
   "outputs": [],
   "source": [
    "from sklearn.metrics import accuracy_score, f1_score\n",
    "\n",
    "# Function to train, evaluate, and save the model\n",
    "def train_and_evaluate(X_train, y_train, X_test, y_test, description):\n",
    "    tm = TMClassifier(\n",
    "    number_of_clauses=500,\n",
    "    T=50,\n",
    "    s=4.0,\n",
    "    platform=\"GPU\",\n",
    "    )\n",
    "    _LOGGER.info(f\"Running {TMClassifier} for 10\")\n",
    "    for epoch in range(10):\n",
    "        benchmark1 = BenchmarkTimer(logger=_LOGGER, text=\"Training Time\")\n",
    "        with benchmark1:\n",
    "            tm.fit(X_train, y_train)\n",
    "\n",
    "        benchmark2 = BenchmarkTimer(logger=_LOGGER, text=\"Testing Time\")\n",
    "        with benchmark2:\n",
    "            result = 100 * (tm.predict(X_test) == y_test).mean()\n",
    "\n",
    "        _LOGGER.info(f\"Epoch: {epoch + 1}, Accuracy: {result:.2f}, Training Time: {benchmark1.elapsed():.2f}s, \"\n",
    "                     f\"Testing Time: {benchmark2.elapsed():.2f}s\")"
   ]
  },
  {
   "cell_type": "code",
   "execution_count": 4,
   "metadata": {},
   "outputs": [
    {
     "name": "stdout",
     "output_type": "stream",
     "text": [
      "2024-02-13 21:17:13,024 - __main__ - INFO - Running <class 'tmu.models.classification.vanilla_classifier.TMClassifier'> for 10\n",
      "2024-02-13 21:17:13,192 - tmu.clause_bank.clause_bank_cuda - INFO - Loading compiled CUDA module from '/tmp/tm_kernels/3201a5ec836dac638412a932dacde82d83e549ad.ptx'.\n",
      "2024-02-13 21:17:13,193 - tmu.clause_bank.clause_bank_cuda - INFO - Loading compiled CUDA module from '/tmp/tm_kernels/89016a311bdbf3c0a8b45a95c9a4083dcbd88f19.ptx'.\n",
      "2024-02-13 21:17:13,194 - tmu.clause_bank.clause_bank_cuda - INFO - Loading compiled CUDA module from '/tmp/tm_kernels/e5ce1f2bbb623d965af5a03c84ef9ef99c9f0666.ptx'.\n",
      "2024-02-13 21:17:13,195 - tmu.clause_bank.clause_bank_cuda - INFO - Loading compiled CUDA module from '/tmp/tm_kernels/f71fb0670b8df2a0be62e147eaca127f46a1d7dd.ptx'.\n",
      "2024-02-13 21:17:13,286 - tmu.clause_bank.clause_bank_cuda - INFO - Loading compiled CUDA module from '/tmp/tm_kernels/3201a5ec836dac638412a932dacde82d83e549ad.ptx'.\n",
      "2024-02-13 21:17:13,287 - tmu.clause_bank.clause_bank_cuda - INFO - Loading compiled CUDA module from '/tmp/tm_kernels/89016a311bdbf3c0a8b45a95c9a4083dcbd88f19.ptx'.\n",
      "2024-02-13 21:17:13,289 - tmu.clause_bank.clause_bank_cuda - INFO - Loading compiled CUDA module from '/tmp/tm_kernels/e5ce1f2bbb623d965af5a03c84ef9ef99c9f0666.ptx'.\n",
      "2024-02-13 21:17:13,290 - tmu.clause_bank.clause_bank_cuda - INFO - Loading compiled CUDA module from '/tmp/tm_kernels/f71fb0670b8df2a0be62e147eaca127f46a1d7dd.ptx'.\n",
      "2024-02-13 21:23:18,050 - __main__ - DEBUG - [365.024847ms] - Training Time\n",
      "2024-02-13 21:23:31,063 - __main__ - DEBUG - [13.013502ms] - Testing Time\n",
      "2024-02-13 21:23:31,064 - __main__ - INFO - Epoch: 1, Accuracy: 59.44, Training Time: 365.02s, Testing Time: 13.01s\n",
      "2024-02-13 21:29:38,066 - __main__ - DEBUG - [367.001621ms] - Training Time\n",
      "2024-02-13 21:29:50,353 - __main__ - DEBUG - [12.286460ms] - Testing Time\n",
      "2024-02-13 21:29:50,353 - __main__ - INFO - Epoch: 2, Accuracy: 59.76, Training Time: 367.00s, Testing Time: 12.29s\n",
      "2024-02-13 21:35:27,945 - __main__ - DEBUG - [337.591871ms] - Training Time\n",
      "2024-02-13 21:35:39,930 - __main__ - DEBUG - [11.984562ms] - Testing Time\n",
      "2024-02-13 21:35:39,931 - __main__ - INFO - Epoch: 3, Accuracy: 59.44, Training Time: 337.59s, Testing Time: 11.98s\n",
      "2024-02-13 21:41:16,956 - __main__ - DEBUG - [337.024814ms] - Training Time\n",
      "2024-02-13 21:41:29,039 - __main__ - DEBUG - [12.083080ms] - Testing Time\n",
      "2024-02-13 21:41:29,039 - __main__ - INFO - Epoch: 4, Accuracy: 59.54, Training Time: 337.02s, Testing Time: 12.08s\n",
      "2024-02-13 21:47:07,349 - __main__ - DEBUG - [338.309716ms] - Training Time\n",
      "2024-02-13 21:47:19,038 - __main__ - DEBUG - [11.688267ms] - Testing Time\n",
      "2024-02-13 21:47:19,038 - __main__ - INFO - Epoch: 5, Accuracy: 59.55, Training Time: 338.31s, Testing Time: 11.69s\n",
      "2024-02-13 21:52:58,670 - __main__ - DEBUG - [339.631666ms] - Training Time\n",
      "2024-02-13 21:53:10,508 - __main__ - DEBUG - [11.836475ms] - Testing Time\n",
      "2024-02-13 21:53:10,508 - __main__ - INFO - Epoch: 6, Accuracy: 59.74, Training Time: 339.63s, Testing Time: 11.84s\n",
      "2024-02-13 21:58:50,808 - __main__ - DEBUG - [340.299445ms] - Training Time\n",
      "2024-02-13 21:59:02,354 - __main__ - DEBUG - [11.546345ms] - Testing Time\n",
      "2024-02-13 21:59:02,355 - __main__ - INFO - Epoch: 7, Accuracy: 59.63, Training Time: 340.30s, Testing Time: 11.55s\n",
      "2024-02-13 22:04:40,561 - __main__ - DEBUG - [338.206524ms] - Training Time\n",
      "2024-02-13 22:04:52,299 - __main__ - DEBUG - [11.737178ms] - Testing Time\n",
      "2024-02-13 22:04:52,299 - __main__ - INFO - Epoch: 8, Accuracy: 59.49, Training Time: 338.21s, Testing Time: 11.74s\n",
      "2024-02-13 22:10:30,519 - __main__ - DEBUG - [338.219831ms] - Training Time\n",
      "2024-02-13 22:10:42,023 - __main__ - DEBUG - [11.502769ms] - Testing Time\n",
      "2024-02-13 22:10:42,023 - __main__ - INFO - Epoch: 9, Accuracy: 59.54, Training Time: 338.22s, Testing Time: 11.50s\n",
      "2024-02-13 22:15:51,988 - __main__ - DEBUG - [309.964403ms] - Training Time\n",
      "2024-02-13 22:16:02,444 - __main__ - DEBUG - [10.456279ms] - Testing Time\n",
      "2024-02-13 22:16:02,445 - __main__ - INFO - Epoch: 10, Accuracy: 59.27, Training Time: 309.96s, Testing Time: 10.46s\n"
     ]
    }
   ],
   "source": [
    "X_train_short = data_short['X_train']\n",
    "X_test_short = data_short['X_test']\n",
    "y_train_short = data_short['y_train']\n",
    "y_test_short = data_short['y_test']\n",
    "\n",
    "# select the first 1000 samples for x_train\n",
    "X_train_short = X_train_short.reshape(X_train_short.shape[0], -1)\n",
    "X_test_short = X_test_short.reshape(X_test_short.shape[0], -1)\n",
    "train_and_evaluate(X_train_short, y_train_short, X_test_short, y_test_short, \"Short Dataset\")"
   ]
  },
  {
   "cell_type": "code",
   "execution_count": 5,
   "metadata": {},
   "outputs": [
    {
     "name": "stdout",
     "output_type": "stream",
     "text": [
      "2024-02-13 22:16:31,789 - __main__ - INFO - Running <class 'tmu.models.classification.vanilla_classifier.TMClassifier'> for 10\n",
      "2024-02-13 22:16:31,891 - tmu.clause_bank.clause_bank_cuda - INFO - Loading compiled CUDA module from '/tmp/tm_kernels/3201a5ec836dac638412a932dacde82d83e549ad.ptx'.\n",
      "2024-02-13 22:16:31,893 - tmu.clause_bank.clause_bank_cuda - INFO - Loading compiled CUDA module from '/tmp/tm_kernels/89016a311bdbf3c0a8b45a95c9a4083dcbd88f19.ptx'.\n",
      "2024-02-13 22:16:31,894 - tmu.clause_bank.clause_bank_cuda - INFO - Loading compiled CUDA module from '/tmp/tm_kernels/e5ce1f2bbb623d965af5a03c84ef9ef99c9f0666.ptx'.\n",
      "2024-02-13 22:16:31,895 - tmu.clause_bank.clause_bank_cuda - INFO - Loading compiled CUDA module from '/tmp/tm_kernels/f71fb0670b8df2a0be62e147eaca127f46a1d7dd.ptx'.\n",
      "2024-02-13 22:16:31,989 - tmu.clause_bank.clause_bank_cuda - INFO - Loading compiled CUDA module from '/tmp/tm_kernels/3201a5ec836dac638412a932dacde82d83e549ad.ptx'.\n",
      "2024-02-13 22:16:31,990 - tmu.clause_bank.clause_bank_cuda - INFO - Loading compiled CUDA module from '/tmp/tm_kernels/89016a311bdbf3c0a8b45a95c9a4083dcbd88f19.ptx'.\n",
      "2024-02-13 22:16:31,991 - tmu.clause_bank.clause_bank_cuda - INFO - Loading compiled CUDA module from '/tmp/tm_kernels/e5ce1f2bbb623d965af5a03c84ef9ef99c9f0666.ptx'.\n",
      "2024-02-13 22:16:31,992 - tmu.clause_bank.clause_bank_cuda - INFO - Loading compiled CUDA module from '/tmp/tm_kernels/f71fb0670b8df2a0be62e147eaca127f46a1d7dd.ptx'.\n",
      "2024-02-13 22:47:55,710 - __main__ - DEBUG - [1883.915287ms] - Training Time\n",
      "2024-02-13 22:49:04,862 - __main__ - DEBUG - [69.077688ms] - Testing Time\n",
      "2024-02-13 22:49:04,863 - __main__ - INFO - Epoch: 1, Accuracy: 75.67, Training Time: 1883.92s, Testing Time: 69.08s\n",
      "2024-02-13 23:19:30,607 - __main__ - DEBUG - [1825.738680ms] - Training Time\n",
      "2024-02-13 23:20:38,997 - __main__ - DEBUG - [68.334007ms] - Testing Time\n",
      "2024-02-13 23:20:38,998 - __main__ - INFO - Epoch: 2, Accuracy: 74.94, Training Time: 1825.74s, Testing Time: 68.33s\n",
      "2024-02-13 23:48:15,085 - __main__ - DEBUG - [1656.086909ms] - Training Time\n",
      "2024-02-13 23:49:05,455 - __main__ - DEBUG - [50.369366ms] - Testing Time\n",
      "2024-02-13 23:49:05,455 - __main__ - INFO - Epoch: 3, Accuracy: 75.84, Training Time: 1656.09s, Testing Time: 50.37s\n",
      "2024-02-14 00:17:02,854 - __main__ - DEBUG - [1677.396643ms] - Training Time\n",
      "2024-02-14 00:17:53,527 - __main__ - DEBUG - [50.673176ms] - Testing Time\n",
      "2024-02-14 00:17:53,528 - __main__ - INFO - Epoch: 4, Accuracy: 72.23, Training Time: 1677.40s, Testing Time: 50.67s\n",
      "2024-02-14 00:49:10,551 - __main__ - DEBUG - [1877.017145ms] - Training Time\n",
      "2024-02-14 00:50:18,940 - __main__ - DEBUG - [68.326789ms] - Testing Time\n",
      "2024-02-14 00:50:18,941 - __main__ - INFO - Epoch: 5, Accuracy: 75.14, Training Time: 1877.02s, Testing Time: 68.33s\n",
      "2024-02-14 01:21:51,218 - __main__ - DEBUG - [1892.272076ms] - Training Time\n",
      "2024-02-14 01:23:00,080 - __main__ - DEBUG - [68.799215ms] - Testing Time\n",
      "2024-02-14 01:23:00,080 - __main__ - INFO - Epoch: 6, Accuracy: 70.53, Training Time: 1892.27s, Testing Time: 68.80s\n",
      "2024-02-14 01:51:18,456 - __main__ - DEBUG - [1698.375660ms] - Training Time\n",
      "2024-02-14 01:52:09,000 - __main__ - DEBUG - [50.543117ms] - Testing Time\n",
      "2024-02-14 01:52:09,000 - __main__ - INFO - Epoch: 7, Accuracy: 70.58, Training Time: 1698.38s, Testing Time: 50.54s\n",
      "2024-02-14 02:23:51,721 - __main__ - DEBUG - [1902.712620ms] - Training Time\n",
      "2024-02-14 02:24:43,888 - __main__ - DEBUG - [52.105568ms] - Testing Time\n",
      "2024-02-14 02:24:43,889 - __main__ - INFO - Epoch: 8, Accuracy: 70.77, Training Time: 1902.71s, Testing Time: 52.11s\n",
      "2024-02-14 02:56:18,872 - __main__ - DEBUG - [1894.976838ms] - Training Time\n",
      "2024-02-14 02:57:10,032 - __main__ - DEBUG - [51.089910ms] - Testing Time\n",
      "2024-02-14 02:57:10,034 - __main__ - INFO - Epoch: 9, Accuracy: 70.77, Training Time: 1894.98s, Testing Time: 51.09s\n",
      "2024-02-14 03:25:42,790 - __main__ - DEBUG - [1712.755611ms] - Training Time\n",
      "2024-02-14 03:26:34,515 - __main__ - DEBUG - [51.722917ms] - Testing Time\n",
      "2024-02-14 03:26:34,516 - __main__ - INFO - Epoch: 10, Accuracy: 74.33, Training Time: 1712.76s, Testing Time: 51.72s\n"
     ]
    }
   ],
   "source": [
    "# remove from memory\n",
    "del X_train_short, X_test_short, y_train_short, y_test_short\n",
    "X_train_medium = data_medium['X_train']\n",
    "X_test_medium = data_medium['X_test']\n",
    "y_train_medium = data_medium['y_train']\n",
    "y_test_medium = data_medium['y_test']\n",
    "\n",
    "# select the first 1000 samples for x_train\n",
    "X_train_medium = X_train_medium.reshape(X_train_medium.shape[0], -1)\n",
    "X_test_medium = X_test_medium.reshape(X_test_medium.shape[0], -1)\n",
    "train_and_evaluate(X_train_medium, y_train_medium, X_test_medium, y_test_medium, \"Medium Dataset\")"
   ]
  },
  {
   "cell_type": "code",
   "execution_count": 6,
   "metadata": {},
   "outputs": [
    {
     "name": "stdout",
     "output_type": "stream",
     "text": [
      "2024-02-14 03:26:44,463 - __main__ - INFO - Running <class 'tmu.models.classification.vanilla_classifier.TMClassifier'> for 10\n",
      "2024-02-14 03:26:44,642 - tmu.clause_bank.clause_bank_cuda - INFO - Loading compiled CUDA module from '/tmp/tm_kernels/3201a5ec836dac638412a932dacde82d83e549ad.ptx'.\n",
      "2024-02-14 03:26:44,644 - tmu.clause_bank.clause_bank_cuda - INFO - Loading compiled CUDA module from '/tmp/tm_kernels/89016a311bdbf3c0a8b45a95c9a4083dcbd88f19.ptx'.\n",
      "2024-02-14 03:26:44,646 - tmu.clause_bank.clause_bank_cuda - INFO - Loading compiled CUDA module from '/tmp/tm_kernels/e5ce1f2bbb623d965af5a03c84ef9ef99c9f0666.ptx'.\n",
      "2024-02-14 03:26:44,649 - tmu.clause_bank.clause_bank_cuda - INFO - Loading compiled CUDA module from '/tmp/tm_kernels/f71fb0670b8df2a0be62e147eaca127f46a1d7dd.ptx'.\n",
      "2024-02-14 03:26:44,788 - tmu.clause_bank.clause_bank_cuda - INFO - Loading compiled CUDA module from '/tmp/tm_kernels/3201a5ec836dac638412a932dacde82d83e549ad.ptx'.\n",
      "2024-02-14 03:26:44,789 - tmu.clause_bank.clause_bank_cuda - INFO - Loading compiled CUDA module from '/tmp/tm_kernels/89016a311bdbf3c0a8b45a95c9a4083dcbd88f19.ptx'.\n",
      "2024-02-14 03:26:44,791 - tmu.clause_bank.clause_bank_cuda - INFO - Loading compiled CUDA module from '/tmp/tm_kernels/e5ce1f2bbb623d965af5a03c84ef9ef99c9f0666.ptx'.\n",
      "2024-02-14 03:26:44,792 - tmu.clause_bank.clause_bank_cuda - INFO - Loading compiled CUDA module from '/tmp/tm_kernels/f71fb0670b8df2a0be62e147eaca127f46a1d7dd.ptx'.\n",
      "2024-02-14 03:36:17,857 - __main__ - DEBUG - [573.392803ms] - Training Time\n",
      "2024-02-14 03:36:34,340 - __main__ - DEBUG - [16.483516ms] - Testing Time\n",
      "2024-02-14 03:36:34,341 - __main__ - INFO - Epoch: 1, Accuracy: 72.60, Training Time: 573.39s, Testing Time: 16.48s\n",
      "2024-02-14 03:46:03,711 - __main__ - DEBUG - [569.370281ms] - Training Time\n",
      "2024-02-14 03:46:20,198 - __main__ - DEBUG - [16.486677ms] - Testing Time\n",
      "2024-02-14 03:46:20,200 - __main__ - INFO - Epoch: 2, Accuracy: 75.11, Training Time: 569.37s, Testing Time: 16.49s\n",
      "2024-02-14 03:55:49,460 - __main__ - DEBUG - [569.259315ms] - Training Time\n",
      "2024-02-14 03:56:05,953 - __main__ - DEBUG - [16.493118ms] - Testing Time\n",
      "2024-02-14 03:56:05,954 - __main__ - INFO - Epoch: 3, Accuracy: 74.73, Training Time: 569.26s, Testing Time: 16.49s\n",
      "2024-02-14 04:05:31,653 - __main__ - DEBUG - [565.699448ms] - Training Time\n",
      "2024-02-14 04:05:48,068 - __main__ - DEBUG - [16.414608ms] - Testing Time\n",
      "2024-02-14 04:05:48,069 - __main__ - INFO - Epoch: 4, Accuracy: 73.60, Training Time: 565.70s, Testing Time: 16.41s\n",
      "2024-02-14 04:15:16,472 - __main__ - DEBUG - [568.403006ms] - Training Time\n",
      "2024-02-14 04:15:33,064 - __main__ - DEBUG - [16.591609ms] - Testing Time\n",
      "2024-02-14 04:15:33,064 - __main__ - INFO - Epoch: 5, Accuracy: 78.22, Training Time: 568.40s, Testing Time: 16.59s\n",
      "2024-02-14 04:25:01,553 - __main__ - DEBUG - [568.488260ms] - Training Time\n",
      "2024-02-14 04:25:18,058 - __main__ - DEBUG - [16.505459ms] - Testing Time\n",
      "2024-02-14 04:25:18,059 - __main__ - INFO - Epoch: 6, Accuracy: 73.58, Training Time: 568.49s, Testing Time: 16.51s\n",
      "2024-02-14 04:34:44,506 - __main__ - DEBUG - [566.446488ms] - Training Time\n",
      "2024-02-14 04:35:01,173 - __main__ - DEBUG - [16.667544ms] - Testing Time\n",
      "2024-02-14 04:35:01,174 - __main__ - INFO - Epoch: 7, Accuracy: 70.63, Training Time: 566.45s, Testing Time: 16.67s\n",
      "2024-02-14 04:44:30,351 - __main__ - DEBUG - [569.177102ms] - Training Time\n",
      "2024-02-14 04:44:46,152 - __main__ - DEBUG - [15.800734ms] - Testing Time\n",
      "2024-02-14 04:44:46,153 - __main__ - INFO - Epoch: 8, Accuracy: 76.64, Training Time: 569.18s, Testing Time: 15.80s\n",
      "2024-02-14 04:54:13,514 - __main__ - DEBUG - [567.360892ms] - Training Time\n",
      "2024-02-14 04:54:29,414 - __main__ - DEBUG - [15.899612ms] - Testing Time\n",
      "2024-02-14 04:54:29,414 - __main__ - INFO - Epoch: 9, Accuracy: 75.64, Training Time: 567.36s, Testing Time: 15.90s\n",
      "2024-02-14 05:03:59,773 - __main__ - DEBUG - [570.358741ms] - Training Time\n",
      "2024-02-14 05:04:16,211 - __main__ - DEBUG - [16.437644ms] - Testing Time\n",
      "2024-02-14 05:04:16,212 - __main__ - INFO - Epoch: 10, Accuracy: 77.33, Training Time: 570.36s, Testing Time: 16.44s\n"
     ]
    }
   ],
   "source": [
    "# remove from memory s\n",
    "del X_train_medium, X_test_medium, y_train_medium, y_test_medium\n",
    "X_train_long = data_long['X_train']\n",
    "X_test_long = data_long['X_test']\n",
    "y_train_long = data_long['y_train']\n",
    "y_test_long = data_long['y_test']\n",
    "\n",
    "# select the first 1000 samples for x_train\n",
    "X_train_long = X_train_long.reshape(X_train_long.shape[0], -1)\n",
    "X_test_long = X_test_long.reshape(X_test_long.shape[0], -1)\n",
    "train_and_evaluate(X_train_long, y_train_long, X_test_long, y_test_long, \"Long Dataset\")"
   ]
  }
 ],
 "metadata": {
  "kernelspec": {
   "display_name": "tsetlin",
   "language": "python",
   "name": "python3"
  },
  "language_info": {
   "codemirror_mode": {
    "name": "ipython",
    "version": 3
   },
   "file_extension": ".py",
   "mimetype": "text/x-python",
   "name": "python",
   "nbconvert_exporter": "python",
   "pygments_lexer": "ipython3",
   "version": "3.11.7"
  }
 },
 "nbformat": 4,
 "nbformat_minor": 2
}
