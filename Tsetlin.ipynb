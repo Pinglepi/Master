{
 "cells": [
  {
   "cell_type": "code",
   "execution_count": 1,
   "metadata": {},
   "outputs": [],
   "source": [
    "import numpy as np\n",
    "from tmu.models.classification.vanilla_classifier import TMClassifier"
   ]
  },
  {
   "cell_type": "code",
   "execution_count": 2,
   "metadata": {},
   "outputs": [],
   "source": [
    "data_short = np.load('Data/lorfs_100.npz')\n",
    "data_medium = np.load('Data/lorfs_400.npz')\n",
    "data_long = np.load('Data/lorfs_1000.npz')\n"
   ]
  },
  {
   "cell_type": "code",
   "execution_count": 3,
   "metadata": {},
   "outputs": [],
   "source": [
    "from sklearn.metrics import accuracy_score, f1_score\n",
    "\n",
    "# Function to train, evaluate, and save the model\n",
    "def train_and_evaluate(X_train, y_train, X_test, y_test, description):\n",
    "\n",
    "    # Train the model\n",
    "    tm = TMClassifier(100,15,5.0, platform='GPU')\n",
    "    for epoch in range(10):\n",
    "        tm.fit(X_train, y_train)\n",
    "        accuracy_train = 100 * (tm.predict(X_train) == y_train).mean()\n",
    "        accuracy_test = 100 * (tm.predict(X_test) == y_test).mean()\n",
    "        print(f\"Epoch: {epoch + 1}, Accuracy: {accuracy_train:.2f}, Val_Accuracy: {accuracy_test:.2f}%\")\n",
    "\n"
   ]
  },
  {
   "cell_type": "code",
   "execution_count": 4,
   "metadata": {},
   "outputs": [
    {
     "name": "stdout",
     "output_type": "stream",
     "text": [
      "2024-02-13 20:55:48,188 - tmu.clause_bank.clause_bank_cuda - INFO - Loading compiled CUDA module from '/tmp/tm_kernels/3201a5ec836dac638412a932dacde82d83e549ad.ptx'.\n",
      "2024-02-13 20:55:48,189 - tmu.clause_bank.clause_bank_cuda - INFO - Loading compiled CUDA module from '/tmp/tm_kernels/89016a311bdbf3c0a8b45a95c9a4083dcbd88f19.ptx'.\n",
      "2024-02-13 20:55:48,190 - tmu.clause_bank.clause_bank_cuda - INFO - Loading compiled CUDA module from '/tmp/tm_kernels/e5ce1f2bbb623d965af5a03c84ef9ef99c9f0666.ptx'.\n",
      "2024-02-13 20:55:48,191 - tmu.clause_bank.clause_bank_cuda - INFO - Loading compiled CUDA module from '/tmp/tm_kernels/f71fb0670b8df2a0be62e147eaca127f46a1d7dd.ptx'.\n",
      "2024-02-13 20:55:48,286 - tmu.clause_bank.clause_bank_cuda - INFO - Loading compiled CUDA module from '/tmp/tm_kernels/3201a5ec836dac638412a932dacde82d83e549ad.ptx'.\n",
      "2024-02-13 20:55:48,287 - tmu.clause_bank.clause_bank_cuda - INFO - Loading compiled CUDA module from '/tmp/tm_kernels/89016a311bdbf3c0a8b45a95c9a4083dcbd88f19.ptx'.\n",
      "2024-02-13 20:55:48,288 - tmu.clause_bank.clause_bank_cuda - INFO - Loading compiled CUDA module from '/tmp/tm_kernels/e5ce1f2bbb623d965af5a03c84ef9ef99c9f0666.ptx'.\n",
      "2024-02-13 20:55:48,289 - tmu.clause_bank.clause_bank_cuda - INFO - Loading compiled CUDA module from '/tmp/tm_kernels/f71fb0670b8df2a0be62e147eaca127f46a1d7dd.ptx'.\n"
     ]
    },
    {
     "ename": "LogicError",
     "evalue": "cuCtxSynchronize failed: an illegal memory access was encountered",
     "output_type": "error",
     "traceback": [
      "\u001b[0;31m---------------------------------------------------------------------------\u001b[0m",
      "\u001b[0;31mLogicError\u001b[0m                                Traceback (most recent call last)",
      "Cell \u001b[0;32mIn[4], line 11\u001b[0m\n\u001b[1;32m      9\u001b[0m X_train_short \u001b[38;5;241m=\u001b[39m X_train_short[:\u001b[38;5;241m1000\u001b[39m]\n\u001b[1;32m     10\u001b[0m y_train_short \u001b[38;5;241m=\u001b[39m y_train_short[:\u001b[38;5;241m1000\u001b[39m]\n\u001b[0;32m---> 11\u001b[0m \u001b[43mtrain_and_evaluate\u001b[49m\u001b[43m(\u001b[49m\u001b[43mX_train_short\u001b[49m\u001b[43m,\u001b[49m\u001b[43m \u001b[49m\u001b[43my_train_short\u001b[49m\u001b[43m,\u001b[49m\u001b[43m \u001b[49m\u001b[43mX_test_short\u001b[49m\u001b[43m,\u001b[49m\u001b[43m \u001b[49m\u001b[43my_test_short\u001b[49m\u001b[43m,\u001b[49m\u001b[43m \u001b[49m\u001b[38;5;124;43m\"\u001b[39;49m\u001b[38;5;124;43mShort Dataset\u001b[39;49m\u001b[38;5;124;43m\"\u001b[39;49m\u001b[43m)\u001b[49m\n",
      "Cell \u001b[0;32mIn[3], line 11\u001b[0m, in \u001b[0;36mtrain_and_evaluate\u001b[0;34m(X_train, y_train, X_test, y_test, description)\u001b[0m\n\u001b[1;32m      9\u001b[0m tm\u001b[38;5;241m.\u001b[39mfit(X_train, y_train)\n\u001b[1;32m     10\u001b[0m accuracy_train \u001b[38;5;241m=\u001b[39m \u001b[38;5;241m100\u001b[39m \u001b[38;5;241m*\u001b[39m (tm\u001b[38;5;241m.\u001b[39mpredict(X_train) \u001b[38;5;241m==\u001b[39m y_train)\u001b[38;5;241m.\u001b[39mmean()\n\u001b[0;32m---> 11\u001b[0m accuracy_test \u001b[38;5;241m=\u001b[39m \u001b[38;5;241m100\u001b[39m \u001b[38;5;241m*\u001b[39m (\u001b[43mtm\u001b[49m\u001b[38;5;241;43m.\u001b[39;49m\u001b[43mpredict\u001b[49m\u001b[43m(\u001b[49m\u001b[43mX_test\u001b[49m\u001b[43m)\u001b[49m \u001b[38;5;241m==\u001b[39m y_test)\u001b[38;5;241m.\u001b[39mmean()\n\u001b[1;32m     12\u001b[0m \u001b[38;5;28mprint\u001b[39m(\u001b[38;5;124mf\u001b[39m\u001b[38;5;124m\"\u001b[39m\u001b[38;5;124mEpoch: \u001b[39m\u001b[38;5;132;01m{\u001b[39;00mepoch\u001b[38;5;250m \u001b[39m\u001b[38;5;241m+\u001b[39m\u001b[38;5;250m \u001b[39m\u001b[38;5;241m1\u001b[39m\u001b[38;5;132;01m}\u001b[39;00m\u001b[38;5;124m, Accuracy: \u001b[39m\u001b[38;5;132;01m{\u001b[39;00maccuracy_train\u001b[38;5;132;01m:\u001b[39;00m\u001b[38;5;124m.2f\u001b[39m\u001b[38;5;132;01m}\u001b[39;00m\u001b[38;5;124m, Val_Accuracy: \u001b[39m\u001b[38;5;132;01m{\u001b[39;00maccuracy_test\u001b[38;5;132;01m:\u001b[39;00m\u001b[38;5;124m.2f\u001b[39m\u001b[38;5;132;01m}\u001b[39;00m\u001b[38;5;124m%\u001b[39m\u001b[38;5;124m\"\u001b[39m)\n",
      "File \u001b[0;32m~/miniconda3/envs/tsetlin/lib/python3.11/site-packages/tmu/models/classification/vanilla_classifier.py:430\u001b[0m, in \u001b[0;36mTMClassifier.predict\u001b[0;34m(self, X, clip_class_sum, return_class_sums, **kwargs)\u001b[0m\n\u001b[1;32m    417\u001b[0m \u001b[38;5;28;01mdef\u001b[39;00m \u001b[38;5;21mpredict\u001b[39m(\n\u001b[1;32m    418\u001b[0m         \u001b[38;5;28mself\u001b[39m,\n\u001b[1;32m    419\u001b[0m         X: np\u001b[38;5;241m.\u001b[39mndarray,\n\u001b[0;32m   (...)\u001b[0m\n\u001b[1;32m    422\u001b[0m         \u001b[38;5;241m*\u001b[39m\u001b[38;5;241m*\u001b[39mkwargs\n\u001b[1;32m    423\u001b[0m ):\n\u001b[1;32m    425\u001b[0m     encoded_X_test \u001b[38;5;241m=\u001b[39m \u001b[38;5;28mself\u001b[39m\u001b[38;5;241m.\u001b[39mtest_encoder_cache\u001b[38;5;241m.\u001b[39mget_encoded_data(\n\u001b[1;32m    426\u001b[0m         data\u001b[38;5;241m=\u001b[39mX,\n\u001b[1;32m    427\u001b[0m         encoder_func\u001b[38;5;241m=\u001b[39m\u001b[38;5;28;01mlambda\u001b[39;00m x: \u001b[38;5;28mself\u001b[39m\u001b[38;5;241m.\u001b[39mclause_banks[\u001b[38;5;241m0\u001b[39m]\u001b[38;5;241m.\u001b[39mprepare_X(x)\n\u001b[1;32m    428\u001b[0m     )\n\u001b[0;32m--> 430\u001b[0m     class_sums \u001b[38;5;241m=\u001b[39m np\u001b[38;5;241m.\u001b[39marray(\u001b[43m[\u001b[49m\n\u001b[1;32m    431\u001b[0m \u001b[43m        \u001b[49m\u001b[38;5;28;43mself\u001b[39;49m\u001b[38;5;241;43m.\u001b[39;49m\u001b[43mpredict_compute_class_sums\u001b[49m\u001b[43m(\u001b[49m\n\u001b[1;32m    432\u001b[0m \u001b[43m            \u001b[49m\u001b[43mencoded_X_test\u001b[49m\u001b[38;5;241;43m=\u001b[39;49m\u001b[43mencoded_X_test\u001b[49m\u001b[43m,\u001b[49m\n\u001b[1;32m    433\u001b[0m \u001b[43m            \u001b[49m\u001b[43mith_sample\u001b[49m\u001b[38;5;241;43m=\u001b[39;49m\u001b[43mi\u001b[49m\u001b[43m,\u001b[49m\n\u001b[1;32m    434\u001b[0m \u001b[43m            \u001b[49m\u001b[43mclip_class_sum\u001b[49m\u001b[38;5;241;43m=\u001b[39;49m\u001b[43mclip_class_sum\u001b[49m\n\u001b[1;32m    435\u001b[0m \u001b[43m        \u001b[49m\u001b[43m)\u001b[49m\u001b[43m \u001b[49m\u001b[38;5;28;43;01mfor\u001b[39;49;00m\u001b[43m \u001b[49m\u001b[43mi\u001b[49m\u001b[43m \u001b[49m\u001b[38;5;129;43;01min\u001b[39;49;00m\u001b[43m \u001b[49m\u001b[38;5;28;43mrange\u001b[39;49m\u001b[43m(\u001b[49m\u001b[43mX\u001b[49m\u001b[38;5;241;43m.\u001b[39;49m\u001b[43mshape\u001b[49m\u001b[43m[\u001b[49m\u001b[38;5;241;43m0\u001b[39;49m\u001b[43m]\u001b[49m\u001b[43m)\u001b[49m\n\u001b[1;32m    436\u001b[0m \u001b[43m    \u001b[49m\u001b[43m]\u001b[49m)\n\u001b[1;32m    438\u001b[0m     max_classes \u001b[38;5;241m=\u001b[39m np\u001b[38;5;241m.\u001b[39margmax(class_sums, axis\u001b[38;5;241m=\u001b[39m\u001b[38;5;241m1\u001b[39m)\n\u001b[1;32m    440\u001b[0m     \u001b[38;5;28;01mif\u001b[39;00m return_class_sums:\n",
      "File \u001b[0;32m~/miniconda3/envs/tsetlin/lib/python3.11/site-packages/tmu/models/classification/vanilla_classifier.py:431\u001b[0m, in \u001b[0;36m<listcomp>\u001b[0;34m(.0)\u001b[0m\n\u001b[1;32m    417\u001b[0m \u001b[38;5;28;01mdef\u001b[39;00m \u001b[38;5;21mpredict\u001b[39m(\n\u001b[1;32m    418\u001b[0m         \u001b[38;5;28mself\u001b[39m,\n\u001b[1;32m    419\u001b[0m         X: np\u001b[38;5;241m.\u001b[39mndarray,\n\u001b[0;32m   (...)\u001b[0m\n\u001b[1;32m    422\u001b[0m         \u001b[38;5;241m*\u001b[39m\u001b[38;5;241m*\u001b[39mkwargs\n\u001b[1;32m    423\u001b[0m ):\n\u001b[1;32m    425\u001b[0m     encoded_X_test \u001b[38;5;241m=\u001b[39m \u001b[38;5;28mself\u001b[39m\u001b[38;5;241m.\u001b[39mtest_encoder_cache\u001b[38;5;241m.\u001b[39mget_encoded_data(\n\u001b[1;32m    426\u001b[0m         data\u001b[38;5;241m=\u001b[39mX,\n\u001b[1;32m    427\u001b[0m         encoder_func\u001b[38;5;241m=\u001b[39m\u001b[38;5;28;01mlambda\u001b[39;00m x: \u001b[38;5;28mself\u001b[39m\u001b[38;5;241m.\u001b[39mclause_banks[\u001b[38;5;241m0\u001b[39m]\u001b[38;5;241m.\u001b[39mprepare_X(x)\n\u001b[1;32m    428\u001b[0m     )\n\u001b[1;32m    430\u001b[0m     class_sums \u001b[38;5;241m=\u001b[39m np\u001b[38;5;241m.\u001b[39marray([\n\u001b[0;32m--> 431\u001b[0m         \u001b[38;5;28;43mself\u001b[39;49m\u001b[38;5;241;43m.\u001b[39;49m\u001b[43mpredict_compute_class_sums\u001b[49m\u001b[43m(\u001b[49m\n\u001b[1;32m    432\u001b[0m \u001b[43m            \u001b[49m\u001b[43mencoded_X_test\u001b[49m\u001b[38;5;241;43m=\u001b[39;49m\u001b[43mencoded_X_test\u001b[49m\u001b[43m,\u001b[49m\n\u001b[1;32m    433\u001b[0m \u001b[43m            \u001b[49m\u001b[43mith_sample\u001b[49m\u001b[38;5;241;43m=\u001b[39;49m\u001b[43mi\u001b[49m\u001b[43m,\u001b[49m\n\u001b[1;32m    434\u001b[0m \u001b[43m            \u001b[49m\u001b[43mclip_class_sum\u001b[49m\u001b[38;5;241;43m=\u001b[39;49m\u001b[43mclip_class_sum\u001b[49m\n\u001b[1;32m    435\u001b[0m \u001b[43m        \u001b[49m\u001b[43m)\u001b[49m \u001b[38;5;28;01mfor\u001b[39;00m i \u001b[38;5;129;01min\u001b[39;00m \u001b[38;5;28mrange\u001b[39m(X\u001b[38;5;241m.\u001b[39mshape[\u001b[38;5;241m0\u001b[39m])\n\u001b[1;32m    436\u001b[0m     ])\n\u001b[1;32m    438\u001b[0m     max_classes \u001b[38;5;241m=\u001b[39m np\u001b[38;5;241m.\u001b[39margmax(class_sums, axis\u001b[38;5;241m=\u001b[39m\u001b[38;5;241m1\u001b[39m)\n\u001b[1;32m    440\u001b[0m     \u001b[38;5;28;01mif\u001b[39;00m return_class_sums:\n",
      "File \u001b[0;32m~/miniconda3/envs/tsetlin/lib/python3.11/site-packages/tmu/models/classification/vanilla_classifier.py:465\u001b[0m, in \u001b[0;36mTMClassifier.predict_compute_class_sums\u001b[0;34m(self, encoded_X_test, ith_sample, clip_class_sum)\u001b[0m\n\u001b[1;32m    460\u001b[0m class_sums \u001b[38;5;241m=\u001b[39m []\n\u001b[1;32m    461\u001b[0m \u001b[38;5;28;01mfor\u001b[39;00m ith_class \u001b[38;5;129;01min\u001b[39;00m \u001b[38;5;28mself\u001b[39m\u001b[38;5;241m.\u001b[39mweight_banks\u001b[38;5;241m.\u001b[39mclasses():\n\u001b[1;32m    463\u001b[0m     class_sum \u001b[38;5;241m=\u001b[39m np\u001b[38;5;241m.\u001b[39mdot(\n\u001b[1;32m    464\u001b[0m         \u001b[38;5;28mself\u001b[39m\u001b[38;5;241m.\u001b[39mweight_banks[ith_class]\u001b[38;5;241m.\u001b[39mget_weights(),\n\u001b[0;32m--> 465\u001b[0m         \u001b[38;5;28;43mself\u001b[39;49m\u001b[38;5;241;43m.\u001b[39;49m\u001b[43mclause_banks\u001b[49m\u001b[43m[\u001b[49m\u001b[43mith_class\u001b[49m\u001b[43m]\u001b[49m\u001b[38;5;241;43m.\u001b[39;49m\u001b[43mcalculate_clause_outputs_predict\u001b[49m\u001b[43m(\u001b[49m\u001b[43mencoded_X_test\u001b[49m\u001b[43m,\u001b[49m\u001b[43m \u001b[49m\u001b[43mith_sample\u001b[49m\u001b[43m)\u001b[49m\n\u001b[1;32m    466\u001b[0m     )\u001b[38;5;241m.\u001b[39mastype(np\u001b[38;5;241m.\u001b[39mint32)\n\u001b[1;32m    468\u001b[0m     \u001b[38;5;28;01mif\u001b[39;00m clip_class_sum:\n\u001b[1;32m    469\u001b[0m         class_sum \u001b[38;5;241m=\u001b[39m np\u001b[38;5;241m.\u001b[39mclip(class_sum, \u001b[38;5;241m-\u001b[39m\u001b[38;5;28mself\u001b[39m\u001b[38;5;241m.\u001b[39mT, \u001b[38;5;28mself\u001b[39m\u001b[38;5;241m.\u001b[39mT)\n",
      "File \u001b[0;32m~/miniconda3/envs/tsetlin/lib/python3.11/site-packages/tmu/clause_bank/clause_bank_cuda.py:197\u001b[0m, in \u001b[0;36mImplClauseBankCUDA.calculate_clause_outputs_predict\u001b[0;34m(self, encoded_X, e)\u001b[0m\n\u001b[1;32m    185\u001b[0m \u001b[38;5;28;01mdef\u001b[39;00m \u001b[38;5;21mcalculate_clause_outputs_predict\u001b[39m(\u001b[38;5;28mself\u001b[39m, encoded_X, e):\n\u001b[1;32m    186\u001b[0m     \u001b[38;5;28mself\u001b[39m\u001b[38;5;241m.\u001b[39mcalculate_clause_outputs_predict_gpu\u001b[38;5;241m.\u001b[39mprepared_call(\n\u001b[1;32m    187\u001b[0m         \u001b[38;5;28mself\u001b[39m\u001b[38;5;241m.\u001b[39mgrid,\n\u001b[1;32m    188\u001b[0m         \u001b[38;5;28mself\u001b[39m\u001b[38;5;241m.\u001b[39mblock,\n\u001b[0;32m   (...)\u001b[0m\n\u001b[1;32m    195\u001b[0m         np\u001b[38;5;241m.\u001b[39mint32(e)\n\u001b[1;32m    196\u001b[0m     )\n\u001b[0;32m--> 197\u001b[0m     \u001b[38;5;28;43mself\u001b[39;49m\u001b[38;5;241;43m.\u001b[39;49m\u001b[43mcuda_ctx\u001b[49m\u001b[38;5;241;43m.\u001b[39;49m\u001b[43msynchronize\u001b[49m\u001b[43m(\u001b[49m\u001b[43m)\u001b[49m\n\u001b[1;32m    198\u001b[0m     \u001b[38;5;28mself\u001b[39m\u001b[38;5;241m.\u001b[39m_profiler\u001b[38;5;241m.\u001b[39mprofile(cuda\u001b[38;5;241m.\u001b[39mmemcpy_dtoh, \u001b[38;5;28mself\u001b[39m\u001b[38;5;241m.\u001b[39mclause_output, \u001b[38;5;28mself\u001b[39m\u001b[38;5;241m.\u001b[39mclause_output_gpu)\n\u001b[1;32m    199\u001b[0m     \u001b[38;5;28;01mreturn\u001b[39;00m \u001b[38;5;28mself\u001b[39m\u001b[38;5;241m.\u001b[39mclause_output\n",
      "\u001b[0;31mLogicError\u001b[0m: cuCtxSynchronize failed: an illegal memory access was encountered"
     ]
    }
   ],
   "source": [
    "X_train_short = data_short['X_train']\n",
    "X_test_short = data_short['X_test']\n",
    "y_train_short = data_short['y_train']\n",
    "y_test_short = data_short['y_test']\n",
    "\n",
    "# select the first 1000 samples for x_train\n",
    "X_train_short = X_train_short.reshape(X_train_short.shape[0], -1)\n",
    "X_test_short = X_test_short.reshape(X_test_short.shape[0], -1)\n",
    "X_train_short = X_train_short[:1000]\n",
    "y_train_short = y_train_short[:1000]\n",
    "train_and_evaluate(X_train_short, y_train_short, X_test_short, y_test_short, \"Short Dataset\")"
   ]
  },
  {
   "cell_type": "code",
   "execution_count": null,
   "metadata": {},
   "outputs": [],
   "source": [
    "# remove from memory\n",
    "del X_train_short, X_test_short, y_train_short, y_test_short\n",
    "X_train_medium = data_medium['X_train']\n",
    "X_test_medium = data_medium['X_test']\n",
    "y_train_medium = data_medium['y_train']\n",
    "y_test_medium = data_medium['y_test']\n",
    "\n",
    "# select the first 1000 samples for x_train\n",
    "X_train_medium = X_train_medium.reshape(X_train_medium.shape[0], -1)\n",
    "X_test_medium = X_test_medium.reshape(X_test_medium.shape[0], -1)\n",
    "train_and_evaluate(X_train_medium, y_train_medium, X_test_medium, y_test_medium, \"Medium Dataset\")"
   ]
  },
  {
   "cell_type": "code",
   "execution_count": null,
   "metadata": {},
   "outputs": [],
   "source": [
    "# remove from memory\n",
    "del X_train_medium, X_test_medium, y_train_medium, y_test_medium\n",
    "X_train_long = data_long['X_train']\n",
    "X_test_long = data_long['X_test']\n",
    "y_train_long = data_long['y_train']\n",
    "y_test_long = data_long['y_test']\n",
    "\n",
    "# select the first 1000 samples for x_train\n",
    "X_train_long = X_train_long.reshape(X_train_long.shape[0], -1)\n",
    "X_test_long = X_test_long.reshape(X_test_long.shape[0], -1)\n",
    "train_and_evaluate(X_train_long, y_train_long, X_test_long, y_test_long, \"Long Dataset\")"
   ]
  }
 ],
 "metadata": {
  "kernelspec": {
   "display_name": "tsetlin",
   "language": "python",
   "name": "python3"
  },
  "language_info": {
   "codemirror_mode": {
    "name": "ipython",
    "version": 3
   },
   "file_extension": ".py",
   "mimetype": "text/x-python",
   "name": "python",
   "nbconvert_exporter": "python",
   "pygments_lexer": "ipython3",
   "version": "3.11.7"
  }
 },
 "nbformat": 4,
 "nbformat_minor": 2
}
