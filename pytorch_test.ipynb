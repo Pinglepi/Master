{
 "cells": [
  {
   "cell_type": "code",
   "execution_count": 1,
   "metadata": {},
   "outputs": [
    {
     "name": "stdout",
     "output_type": "stream",
     "text": [
      "Using device: cuda\n"
     ]
    }
   ],
   "source": [
    "import torch\n",
    "import torch.nn as nn\n",
    "import torch.optim as optim\n",
    "from torch.utils.data import DataLoader, TensorDataset\n",
    "from sklearn.metrics import accuracy_score, f1_score\n",
    "import numpy as np\n",
    "import os\n",
    "\n",
    "# Check if CUDA is available and set the device accordingly\n",
    "device = torch.device(\"cuda\" if torch.cuda.is_available() else \"cpu\")\n",
    "print(f\"Using device: {device}\")\n",
    "\n",
    "class NeuralNetwork(nn.Module):\n",
    "    def __init__(self, input_size):\n",
    "        super(NeuralNetwork, self).__init__()\n",
    "        self.layer1 = nn.Linear(input_size, 128)\n",
    "        self.relu = nn.ReLU()\n",
    "        self.dropout = nn.Dropout(0.2)\n",
    "        self.layer2 = nn.Linear(128, 64)\n",
    "        self.output_layer = nn.Linear(64, 1)\n",
    "        self.sigmoid = nn.Sigmoid()\n",
    "    \n",
    "    def forward(self, x):\n",
    "        x = self.relu(self.layer1(x))\n",
    "        x = self.dropout(x)\n",
    "        x = self.relu(self.layer2(x))\n",
    "        x = self.dropout(x)\n",
    "        x = self.sigmoid(self.output_layer(x))\n",
    "        return x\n",
    "\n",
    "def train_and_evaluate_nn(X_train, y_train, X_test, y_test, description):\n",
    "    model = NeuralNetwork(X_train.shape[1]).to(device)\n",
    "    \n",
    "    # Convert numpy arrays to torch tensors\n",
    "    X_train_torch = torch.tensor(X_train, dtype=torch.float32)\n",
    "    y_train_torch = torch.tensor(y_train, dtype=torch.float32).view(-1, 1)\n",
    "    X_test_torch = torch.tensor(X_test, dtype=torch.float32)\n",
    "    y_test_torch = torch.tensor(y_test, dtype=torch.float32).view(-1, 1)\n",
    "    \n",
    "    # Create TensorDatasets and DataLoaders with a reduced batch size\n",
    "    train_dataset = TensorDataset(X_train_torch, y_train_torch)\n",
    "    test_dataset = TensorDataset(X_test_torch, y_test_torch)\n",
    "    train_loader = DataLoader(train_dataset, batch_size=16, shuffle=True)\n",
    "    test_loader = DataLoader(test_dataset, batch_size=16, shuffle=False)\n",
    "    \n",
    "    criterion = nn.BCELoss()\n",
    "    optimizer = optim.Adam(model.parameters())\n",
    "    \n",
    "    # Training the model\n",
    "    for epoch in range(10):  # Loop over the dataset multiple times\n",
    "        model.train()  # Set model to training mode\n",
    "        running_loss = 0.0\n",
    "        for inputs, labels in train_loader:\n",
    "            inputs, labels = inputs.to(device), labels.to(device)\n",
    "            optimizer.zero_grad()\n",
    "            outputs = model(inputs)\n",
    "            loss = criterion(outputs, labels)\n",
    "            loss.backward()\n",
    "            optimizer.step()\n",
    "            running_loss += loss.item()\n",
    "        \n",
    "        # Validation phase\n",
    "        model.eval()  # Set model to evaluation mode\n",
    "        val_running_accuracy = 0.0\n",
    "        total = 0\n",
    "        with torch.no_grad():\n",
    "            for inputs, labels in test_loader:\n",
    "                inputs, labels = inputs.to(device), labels.to(device)\n",
    "                outputs = model(inputs)\n",
    "                predicted = (outputs > 0.5).float()\n",
    "                total += labels.size(0)\n",
    "                val_running_accuracy += (predicted == labels).sum().item()\n",
    "        \n",
    "        val_accuracy = val_running_accuracy / total\n",
    "        print(f'Epoch {epoch+1}, Loss: {running_loss/len(train_loader)}, Val Accuracy: {val_accuracy}')\n",
    "\n",
    "    \n",
    "    # Evaluating the model\n",
    "    model.eval()\n",
    "    predictions = []\n",
    "    with torch.no_grad():\n",
    "        for inputs, labels in test_loader:\n",
    "            inputs, labels = inputs.to(device), labels.to(device)\n",
    "            outputs = model(inputs)\n",
    "            predicted = (outputs > 0.5).float()\n",
    "            predictions.extend(predicted.cpu().numpy())\n",
    "    \n",
    "    accuracy = accuracy_score(y_test, np.round(predictions))\n",
    "    f1 = f1_score(y_test, np.round(predictions))\n",
    "    \n",
    "    print(f\"Results for {description}:\")\n",
    "    print(f\"Accuracy: {accuracy:.4f}\")\n",
    "    print(f\"F1 Score: {f1:.4f}\\n\")\n",
    "\n",
    "    # Save the model\n",
    "    model_dir = \"Models/Dense_torch\"\n",
    "    description_formatted = description.replace(' ', '_').lower()\n",
    "    model_filename = os.path.join(model_dir, f\"{description_formatted}_model.pth\")\n",
    "    os.makedirs(model_dir, exist_ok=True)\n",
    "    torch.save(model.state_dict(), model_filename)\n",
    "    print(f\"Model saved as {model_filename}\")"
   ]
  },
  {
   "cell_type": "code",
   "execution_count": 2,
   "metadata": {},
   "outputs": [
    {
     "name": "stdout",
     "output_type": "stream",
     "text": [
      "Epoch 1, Loss: 0.6484804896223032, Val Accuracy: 0.6196188272544602\n",
      "Epoch 2, Loss: 0.6368818433299422, Val Accuracy: 0.6200298362053218\n",
      "Epoch 3, Loss: 0.6178977894251685, Val Accuracy: 0.6154174024234306\n",
      "Epoch 4, Loss: 0.585647831652056, Val Accuracy: 0.6073190038360835\n",
      "Epoch 5, Loss: 0.5486821695660468, Val Accuracy: 0.6019606649211472\n",
      "Epoch 6, Loss: 0.5163876424524676, Val Accuracy: 0.5958564208731657\n",
      "Epoch 7, Loss: 0.48878594304124817, Val Accuracy: 0.595369299153626\n",
      "Epoch 8, Loss: 0.46629880507849375, Val Accuracy: 0.5892802776593802\n",
      "Epoch 9, Loss: 0.44613459543938877, Val Accuracy: 0.5838458259757657\n",
      "Epoch 10, Loss: 0.4286850905485357, Val Accuracy: 0.5838153808682944\n",
      "Results for Short Dataset:\n",
      "Accuracy: 0.5838\n",
      "F1 Score: 0.5495\n",
      "\n",
      "Model saved as Models/Dense_torch/short_dataset_model.pth\n"
     ]
    }
   ],
   "source": [
    "data_short = np.load('Data/lorfs_100.npz')\n",
    "\n",
    "X_train_short = data_short['X_train']\n",
    "X_test_short = data_short['X_test']\n",
    "y_train_short = data_short['y_train']\n",
    "y_test_short = data_short['y_test']\n",
    "X_train_short = X_train_short.reshape(X_train_short.shape[0], -1)\n",
    "X_test_short = X_test_short.reshape(X_test_short.shape[0], -1)\n",
    "train_and_evaluate_nn(X_train_short, y_train_short, X_test_short, y_test_short, \"Short Dataset\")\n",
    "\n"
   ]
  },
  {
   "cell_type": "code",
   "execution_count": 3,
   "metadata": {},
   "outputs": [
    {
     "name": "stdout",
     "output_type": "stream",
     "text": [
      "Epoch 1, Loss: 0.38905812932030404, Val Accuracy: 0.8550797604536542\n",
      "Epoch 2, Loss: 0.3492870307932459, Val Accuracy: 0.852204674333563\n",
      "Epoch 3, Loss: 0.31598286747650506, Val Accuracy: 0.8500847951666755\n",
      "Epoch 4, Loss: 0.28976995017053964, Val Accuracy: 0.8477926758174784\n",
      "Epoch 5, Loss: 0.26690315281223737, Val Accuracy: 0.8449440881869733\n",
      "Epoch 6, Loss: 0.24355192692713748, Val Accuracy: 0.8406910806084054\n",
      "Epoch 7, Loss: 0.2232335796077755, Val Accuracy: 0.8366765594361122\n",
      "Epoch 8, Loss: 0.19992165709718626, Val Accuracy: 0.8314696062324447\n",
      "Epoch 9, Loss: 0.18245076159911083, Val Accuracy: 0.8206847209709046\n",
      "Epoch 10, Loss: 0.1649314014763324, Val Accuracy: 0.8233875669086862\n",
      "Results for Medium Dataset:\n",
      "Accuracy: 0.8234\n",
      "F1 Score: 0.8158\n",
      "\n",
      "Model saved as Models/Dense_torch/medium_dataset_model.pth\n"
     ]
    }
   ],
   "source": [
    "del X_test_short, X_train_short, y_test_short, y_train_short\n",
    "data_medium = np.load('Data/lorfs_400.npz')\n",
    "\n",
    "X_train_medium = data_medium['X_train']\n",
    "X_test_medium = data_medium['X_test']\n",
    "y_train_medium = data_medium['y_train']\n",
    "y_test_medium = data_medium['y_test']\n",
    "X_train_medium = X_train_medium.reshape(X_train_medium.shape[0], -1)\n",
    "X_test_medium = X_test_medium.reshape(X_test_medium.shape[0], -1)\n",
    "\n",
    "train_and_evaluate_nn(X_train_medium, y_train_medium, X_test_medium, y_test_medium, \"Medium Dataset\")\n"
   ]
  },
  {
   "cell_type": "code",
   "execution_count": 4,
   "metadata": {},
   "outputs": [
    {
     "name": "stdout",
     "output_type": "stream",
     "text": [
      "Epoch 1, Loss: 0.32344923041830326, Val Accuracy: 0.9001316722374152\n",
      "Epoch 2, Loss: 0.17476654077818599, Val Accuracy: 0.8943583510584422\n",
      "Epoch 3, Loss: 0.06296509631889438, Val Accuracy: 0.8928390560113441\n",
      "Epoch 4, Loss: 0.03183385565778923, Val Accuracy: 0.8934467740301834\n",
      "Epoch 5, Loss: 0.022815749568893217, Val Accuracy: 0.8953712144231744\n",
      "Epoch 6, Loss: 0.018237029123544187, Val Accuracy: 0.8898004659171478\n",
      "Epoch 7, Loss: 0.01879286980285657, Val Accuracy: 0.8946622100678618\n",
      "Epoch 8, Loss: 0.014587536595964939, Val Accuracy: 0.8930416286842905\n",
      "Epoch 9, Loss: 0.01783791331252476, Val Accuracy: 0.8970930821432189\n",
      "Epoch 10, Loss: 0.014525227295797735, Val Accuracy: 0.8951686417502279\n",
      "Results for Long Dataset:\n",
      "Accuracy: 0.8952\n",
      "F1 Score: 0.8990\n",
      "\n",
      "Model saved as Models/Dense_torch/long_dataset_model.pth\n"
     ]
    }
   ],
   "source": [
    "del X_test_medium, X_train_medium, y_test_medium, y_train_medium\n",
    "data_long = np.load('Data/lorfs_1000.npz')\n",
    "\n",
    "X_train_long = data_long['X_train']\n",
    "X_test_long = data_long['X_test']\n",
    "y_train_long = data_long['y_train']\n",
    "y_test_long = data_long['y_test']\n",
    "X_train_long = X_train_long.reshape(X_train_long.shape[0], -1)\n",
    "X_test_long = X_test_long.reshape(X_test_long.shape[0], -1)\n",
    "\n",
    "train_and_evaluate_nn(X_train_long, y_train_long, X_test_long, y_test_long, \"Long Dataset\")"
   ]
  }
 ],
 "metadata": {
  "kernelspec": {
   "display_name": "pytorch",
   "language": "python",
   "name": "python3"
  },
  "language_info": {
   "codemirror_mode": {
    "name": "ipython",
    "version": 3
   },
   "file_extension": ".py",
   "mimetype": "text/x-python",
   "name": "python",
   "nbconvert_exporter": "python",
   "pygments_lexer": "ipython3",
   "version": "3.11.7"
  }
 },
 "nbformat": 4,
 "nbformat_minor": 2
}
