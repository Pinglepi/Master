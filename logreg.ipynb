{
 "cells": [
  {
   "cell_type": "code",
   "execution_count": 11,
   "metadata": {},
   "outputs": [],
   "source": [
    "import numpy as np\n",
    "\n",
    "#data_short = np.load('data/lorfs_100.npz')\n",
    "#data_medium = np.load('data/lorfs_400.npz')\n",
    "#data_long = np.load('data/lorfs_1000.npz')\n",
    "\n",
    "short_meta = np.load('Data/lorfs_100_meta.npz')\n",
    "medium_meta = np.load('Data/lorfs_400_meta.npz')\n",
    "long_meta = np.load('Data/lorfs_1000_meta.npz')"
   ]
  },
  {
   "cell_type": "code",
   "execution_count": 15,
   "metadata": {},
   "outputs": [],
   "source": [
    "import pandas as pd\n",
    "from sklearn.linear_model import LogisticRegression\n",
    "from sklearn.model_selection import train_test_split\n",
    "from sklearn.metrics import accuracy_score, f1_score\n",
    "import joblib  # For saving the model\n",
    "import os\n",
    "\n",
    "def run_and_save_logreg(length, target, description):\n",
    "    \"\"\"\n",
    "    Fits a Logistic Regression model to the data and saves the model.\n",
    "\n",
    "    Parameters:\n",
    "    - length: The feature data (pandas Series or array-like).\n",
    "    - target: The target data (pandas Series or array-like).\n",
    "    - model_name: Name of the model for saving.\n",
    "    - save_dir: Directory to save the model files.\n",
    "\n",
    "    Returns:\n",
    "    - None\n",
    "    \"\"\"\n",
    "    # Create the dataframe\n",
    "    df = pd.DataFrame({'length': length, 'target': target})\n",
    "\n",
    "    # Splitting the dataset into training and testing sets\n",
    "    X_train, X_test, y_train, y_test = train_test_split(df[['length']], df['target'], test_size=0.2, random_state=42)\n",
    "    print(X_test.head())\n",
    "\n",
    "    # Initialize and fit the logistic regression model\n",
    "    logreg = LogisticRegression()\n",
    "    logreg.fit(X_train, y_train)\n",
    "\n",
    "    # Predict on the test set\n",
    "    y_pred = logreg.predict(X_test)\n",
    "\n",
    "    # Evaluate the model\n",
    "    accuracy = accuracy_score(y_test, y_pred)\n",
    "    f1 = f1_score(y_test, y_pred)\n",
    "    print(f'Accuracy of logistic regression classifier on test set: {accuracy:.2f}')\n",
    "    print(f'F1 of logistic regression classifier on test set: {f1:.2f}')\n",
    "\n",
    "    # Define model name based on a description\n",
    "    description_formatted = description.replace(' ', '_').lower()  # Format the description\n",
    "    model_name = f\"{description_formatted}_model\"  # Create model name based on description\n",
    "\n",
    "    # Save the model in the specified directory\n",
    "    model_dir = \"Models/Logreg\"  # Specify the directory\n",
    "    model_path = os.path.join(model_dir, f\"{model_name}.joblib\")  # Construct the full path for the model\n",
    "    os.makedirs(model_dir, exist_ok=True)  # Ensure the directory exists\n",
    "    joblib.dump(logreg, model_path)  # Save the logistic regression model\n",
    "    print(f\"Model saved to {model_path}\")  # Print the save location\n"
   ]
  },
  {
   "cell_type": "code",
   "execution_count": 16,
   "metadata": {},
   "outputs": [
    {
     "name": "stdout",
     "output_type": "stream",
     "text": [
      "Short\n",
      "        length\n",
      "240703      35\n",
      "190305      39\n",
      "94151       31\n",
      "99108       89\n",
      "100638      53\n",
      "Accuracy of logistic regression classifier on test set: 0.59\n",
      "F1 of logistic regression classifier on test set: 0.56\n",
      "Model saved to Models/Logreg/short_dataset_model.joblib\n",
      "Medium\n",
      "        length\n",
      "320242     257\n",
      "369963     355\n",
      "258623     100\n",
      "257662     124\n",
      "221553     192\n",
      "Accuracy of logistic regression classifier on test set: 0.68\n",
      "F1 of logistic regression classifier on test set: 0.65\n",
      "Model saved to Models/Logreg/medium_dataset_model.joblib\n",
      "Long\n",
      "       length\n",
      "5610      749\n",
      "43436     592\n",
      "46104     517\n",
      "13529     594\n",
      "46370     859\n",
      "Accuracy of logistic regression classifier on test set: 0.53\n",
      "F1 of logistic regression classifier on test set: 0.44\n",
      "Model saved to Models/Logreg/long_dataset_model.joblib\n"
     ]
    }
   ],
   "source": [
    "\n",
    "print('Short')\n",
    "run_and_save_logreg(short_meta['length'], short_meta['target'], 'Short Dataset')\n",
    "print('Medium')\n",
    "run_and_save_logreg(medium_meta['length'], medium_meta['target'], 'Medium Dataset')\n",
    "print('Long')\n",
    "run_and_save_logreg(long_meta['length'], long_meta['target'], 'Long Dataset')"
   ]
  }
 ],
 "metadata": {
  "kernelspec": {
   "display_name": "master_env",
   "language": "python",
   "name": "python3"
  },
  "language_info": {
   "codemirror_mode": {
    "name": "ipython",
    "version": 3
   },
   "file_extension": ".py",
   "mimetype": "text/x-python",
   "name": "python",
   "nbconvert_exporter": "python",
   "pygments_lexer": "ipython3",
   "version": "3.11.7"
  }
 },
 "nbformat": 4,
 "nbformat_minor": 2
}
