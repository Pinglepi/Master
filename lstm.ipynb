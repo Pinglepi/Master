{
 "cells": [
  {
   "cell_type": "code",
   "execution_count": 1,
   "metadata": {},
   "outputs": [
    {
     "name": "stderr",
     "output_type": "stream",
     "text": [
      "2024-02-07 07:04:03.507083: E external/local_xla/xla/stream_executor/cuda/cuda_dnn.cc:9261] Unable to register cuDNN factory: Attempting to register factory for plugin cuDNN when one has already been registered\n",
      "2024-02-07 07:04:03.507106: E external/local_xla/xla/stream_executor/cuda/cuda_fft.cc:607] Unable to register cuFFT factory: Attempting to register factory for plugin cuFFT when one has already been registered\n",
      "2024-02-07 07:04:03.513746: E external/local_xla/xla/stream_executor/cuda/cuda_blas.cc:1515] Unable to register cuBLAS factory: Attempting to register factory for plugin cuBLAS when one has already been registered\n",
      "2024-02-07 07:04:03.527597: I tensorflow/core/platform/cpu_feature_guard.cc:182] This TensorFlow binary is optimized to use available CPU instructions in performance-critical operations.\n",
      "To enable the following instructions: AVX2 FMA, in other operations, rebuild TensorFlow with the appropriate compiler flags.\n",
      "2024-02-07 07:04:04.227188: W tensorflow/compiler/tf2tensorrt/utils/py_utils.cc:38] TF-TRT Warning: Could not find TensorRT\n"
     ]
    }
   ],
   "source": [
    "import numpy as np\n",
    "import tensorflow as tf\n",
    "from tensorflow.keras.models import Sequential\n",
    "from tensorflow.keras.layers import LSTM, Dense\n",
    "from tensorflow.keras.callbacks import EarlyStopping\n",
    "from sklearn.metrics import accuracy_score, f1_score\n",
    "import numpy as np\n",
    "import os as os\n",
    "\n",
    "#data_short = np.load('Data/lorfs_100.npz')\n",
    "#data_medium = np.load('Data/lorfs_400.npz')\n",
    "data_long = np.load('Data/lorfs_1000.npz')"
   ]
  },
  {
   "cell_type": "code",
   "execution_count": 2,
   "metadata": {},
   "outputs": [],
   "source": [
    "\n",
    "\n",
    "\n",
    "def train_and_evaluate_rnn(X_train, y_train, X_test, y_test, description):\n",
    "    \n",
    "    # Define RNN model architecture\n",
    "    model = Sequential()\n",
    "    model.add(LSTM(16, activation='tanh'))\n",
    "    model.add(Dense(1, activation='sigmoid'))\n",
    "\n",
    "    early_stopping = EarlyStopping(\n",
    "    monitor='val_loss',\n",
    "    patience=10, \n",
    "    restore_best_weights=True \n",
    "    )\n",
    "    \n",
    "    # Compile the model\n",
    "    model.compile(optimizer='adam', loss='binary_crossentropy', metrics=['accuracy'])\n",
    "    \n",
    "    # Train the model\n",
    "    model.fit(X_train, y_train, epochs=10, batch_size=32, verbose=1, validation_data=(X_test, y_test), callbacks=[early_stopping])\n",
    "    \n",
    "    # Make predictions\n",
    "    preds = model.predict(X_test)\n",
    "    predictions = [1 if i > 0.5 else 0 for i in preds.ravel()]\n",
    "    \n",
    "    # Evaluate the model\n",
    "    accuracy = accuracy_score(y_test, predictions)\n",
    "    f1 = f1_score(y_test, predictions)\n",
    "    \n",
    "    # Print the results\n",
    "    print(f\"Results for {description}:\")\n",
    "    print(f\"Accuracy: {accuracy:.4f}\")\n",
    "    print(f\"F1 Score: {f1:.4f}\\n\")\n",
    "    \n",
    "    # Save the model in the specified directory\n",
    "    model_dir = \"Models/RNN\"  # Specify the new directory\n",
    "    description_formatted = description.replace(' ', '_').lower()  # Format the description\n",
    "    model_filename = os.path.join(model_dir, f\"{description_formatted}_model.keras\")  # Name the file based on description\n",
    "    os.makedirs(model_dir, exist_ok=True)  # Create the directory if it doesn't exist\n",
    "    model.save(model_filename)  # Save the model\n",
    "    print(f\"Model saved as {model_filename}\")  # Print the save location"
   ]
  },
  {
   "cell_type": "code",
   "execution_count": 3,
   "metadata": {},
   "outputs": [
    {
     "name": "stderr",
     "output_type": "stream",
     "text": [
      "2024-02-07 05:38:59.863457: I external/local_xla/xla/stream_executor/cuda/cuda_executor.cc:901] successful NUMA node read from SysFS had negative value (-1), but there must be at least one NUMA node, so returning NUMA node zero. See more at https://github.com/torvalds/linux/blob/v6.0/Documentation/ABI/testing/sysfs-bus-pci#L344-L355\n",
      "2024-02-07 05:38:59.883686: I external/local_xla/xla/stream_executor/cuda/cuda_executor.cc:901] successful NUMA node read from SysFS had negative value (-1), but there must be at least one NUMA node, so returning NUMA node zero. See more at https://github.com/torvalds/linux/blob/v6.0/Documentation/ABI/testing/sysfs-bus-pci#L344-L355\n",
      "2024-02-07 05:38:59.883832: I external/local_xla/xla/stream_executor/cuda/cuda_executor.cc:901] successful NUMA node read from SysFS had negative value (-1), but there must be at least one NUMA node, so returning NUMA node zero. See more at https://github.com/torvalds/linux/blob/v6.0/Documentation/ABI/testing/sysfs-bus-pci#L344-L355\n",
      "2024-02-07 05:38:59.884509: I external/local_xla/xla/stream_executor/cuda/cuda_executor.cc:901] successful NUMA node read from SysFS had negative value (-1), but there must be at least one NUMA node, so returning NUMA node zero. See more at https://github.com/torvalds/linux/blob/v6.0/Documentation/ABI/testing/sysfs-bus-pci#L344-L355\n",
      "2024-02-07 05:38:59.884612: I external/local_xla/xla/stream_executor/cuda/cuda_executor.cc:901] successful NUMA node read from SysFS had negative value (-1), but there must be at least one NUMA node, so returning NUMA node zero. See more at https://github.com/torvalds/linux/blob/v6.0/Documentation/ABI/testing/sysfs-bus-pci#L344-L355\n",
      "2024-02-07 05:38:59.884706: I external/local_xla/xla/stream_executor/cuda/cuda_executor.cc:901] successful NUMA node read from SysFS had negative value (-1), but there must be at least one NUMA node, so returning NUMA node zero. See more at https://github.com/torvalds/linux/blob/v6.0/Documentation/ABI/testing/sysfs-bus-pci#L344-L355\n",
      "2024-02-07 05:38:59.942726: I external/local_xla/xla/stream_executor/cuda/cuda_executor.cc:901] successful NUMA node read from SysFS had negative value (-1), but there must be at least one NUMA node, so returning NUMA node zero. See more at https://github.com/torvalds/linux/blob/v6.0/Documentation/ABI/testing/sysfs-bus-pci#L344-L355\n",
      "2024-02-07 05:38:59.942886: I external/local_xla/xla/stream_executor/cuda/cuda_executor.cc:901] successful NUMA node read from SysFS had negative value (-1), but there must be at least one NUMA node, so returning NUMA node zero. See more at https://github.com/torvalds/linux/blob/v6.0/Documentation/ABI/testing/sysfs-bus-pci#L344-L355\n",
      "2024-02-07 05:38:59.943004: I external/local_xla/xla/stream_executor/cuda/cuda_executor.cc:901] successful NUMA node read from SysFS had negative value (-1), but there must be at least one NUMA node, so returning NUMA node zero. See more at https://github.com/torvalds/linux/blob/v6.0/Documentation/ABI/testing/sysfs-bus-pci#L344-L355\n",
      "2024-02-07 05:38:59.943400: I tensorflow/core/common_runtime/gpu/gpu_device.cc:1929] Created device /job:localhost/replica:0/task:0/device:GPU:0 with 5453 MB memory:  -> device: 0, name: NVIDIA GeForce RTX 3060 Ti, pci bus id: 0000:54:00.0, compute capability: 8.6\n"
     ]
    },
    {
     "name": "stdout",
     "output_type": "stream",
     "text": [
      "Epoch 1/10\n"
     ]
    },
    {
     "name": "stderr",
     "output_type": "stream",
     "text": [
      "2024-02-07 05:39:03.966422: I external/local_xla/xla/stream_executor/cuda/cuda_dnn.cc:454] Loaded cuDNN version 8904\n"
     ]
    },
    {
     "name": "stdout",
     "output_type": "stream",
     "text": [
      "  15/8212 [..............................] - ETA: 29s - loss: 0.6927 - accuracy: 0.5000    "
     ]
    },
    {
     "name": "stderr",
     "output_type": "stream",
     "text": [
      "2024-02-07 05:39:04.286205: I external/local_xla/xla/service/service.cc:168] XLA service 0x7f7108105c60 initialized for platform CUDA (this does not guarantee that XLA will be used). Devices:\n",
      "2024-02-07 05:39:04.286226: I external/local_xla/xla/service/service.cc:176]   StreamExecutor device (0): NVIDIA GeForce RTX 3060 Ti, Compute Capability 8.6\n",
      "2024-02-07 05:39:04.299628: I tensorflow/compiler/mlir/tensorflow/utils/dump_mlir_util.cc:269] disabling MLIR crash reproducer, set env var `MLIR_CRASH_REPRODUCER_DIRECTORY` to enable.\n",
      "WARNING: All log messages before absl::InitializeLog() is called are written to STDERR\n",
      "I0000 00:00:1707280744.370399   78053 device_compiler.h:186] Compiled cluster using XLA!  This line is logged at most once for the lifetime of the process.\n"
     ]
    },
    {
     "name": "stdout",
     "output_type": "stream",
     "text": [
      "8212/8212 [==============================] - 34s 4ms/step - loss: 0.6522 - accuracy: 0.6148 - val_loss: 0.6504 - val_accuracy: 0.6075\n",
      "Epoch 2/10\n",
      "8212/8212 [==============================] - 32s 4ms/step - loss: 0.6449 - accuracy: 0.6216 - val_loss: 0.6470 - val_accuracy: 0.6178\n",
      "Epoch 3/10\n",
      "8212/8212 [==============================] - 31s 4ms/step - loss: 0.6428 - accuracy: 0.6236 - val_loss: 0.6453 - val_accuracy: 0.6186\n",
      "Epoch 4/10\n",
      "8212/8212 [==============================] - 32s 4ms/step - loss: 0.6417 - accuracy: 0.6253 - val_loss: 0.6417 - val_accuracy: 0.6255\n",
      "Epoch 5/10\n",
      "8212/8212 [==============================] - 31s 4ms/step - loss: 0.6404 - accuracy: 0.6258 - val_loss: 0.6424 - val_accuracy: 0.6260\n",
      "Epoch 6/10\n",
      "8212/8212 [==============================] - 31s 4ms/step - loss: 0.6386 - accuracy: 0.6275 - val_loss: 0.6398 - val_accuracy: 0.6269\n",
      "Epoch 7/10\n",
      "8212/8212 [==============================] - 31s 4ms/step - loss: 0.6362 - accuracy: 0.6295 - val_loss: 0.6372 - val_accuracy: 0.6310\n",
      "Epoch 8/10\n",
      "8212/8212 [==============================] - 32s 4ms/step - loss: 0.6337 - accuracy: 0.6323 - val_loss: 0.6427 - val_accuracy: 0.6209\n",
      "Epoch 9/10\n",
      "8212/8212 [==============================] - 32s 4ms/step - loss: 0.6326 - accuracy: 0.6328 - val_loss: 0.6333 - val_accuracy: 0.6332\n",
      "Epoch 10/10\n",
      "8212/8212 [==============================] - 31s 4ms/step - loss: 0.6314 - accuracy: 0.6340 - val_loss: 0.6338 - val_accuracy: 0.6344\n",
      "2053/2053 [==============================] - 4s 2ms/step\n",
      "Results for Short Dataset:\n",
      "Accuracy: 0.6344\n",
      "F1 Score: 0.6251\n",
      "\n",
      "Model saved as Models/RNN/short_dataset_model.keras\n"
     ]
    }
   ],
   "source": [
    "X_train_short = data_short['X_train']\n",
    "X_test_short = data_short['X_test']\n",
    "y_train_short = data_short['y_train']\n",
    "y_test_short = data_short['y_test']\n",
    "train_and_evaluate_rnn(X_train_short, y_train_short, X_test_short, y_test_short, \"Short Dataset\")\n",
    "del X_train_short, y_train_short"
   ]
  },
  {
   "cell_type": "code",
   "execution_count": 3,
   "metadata": {},
   "outputs": [
    {
     "name": "stderr",
     "output_type": "stream",
     "text": [
      "2024-02-07 06:50:46.816819: I external/local_xla/xla/stream_executor/cuda/cuda_executor.cc:901] successful NUMA node read from SysFS had negative value (-1), but there must be at least one NUMA node, so returning NUMA node zero. See more at https://github.com/torvalds/linux/blob/v6.0/Documentation/ABI/testing/sysfs-bus-pci#L344-L355\n",
      "2024-02-07 06:50:46.850226: W tensorflow/core/common_runtime/gpu/gpu_device.cc:2256] Cannot dlopen some GPU libraries. Please make sure the missing libraries mentioned above are installed properly if you would like to use GPU. Follow the guide at https://www.tensorflow.org/install/gpu for how to download and setup the required libraries for your platform.\n",
      "Skipping registering GPU devices...\n",
      "2024-02-07 06:50:49.016601: W external/local_tsl/tsl/framework/cpu_allocator_impl.cc:83] Allocation of 1600000000 exceeds 10% of free system memory.\n"
     ]
    },
    {
     "name": "stdout",
     "output_type": "stream",
     "text": [
      "Epoch 1/10\n",
      "1563/1563 [==============================] - ETA: 0s - loss: 0.6020 - accuracy: 0.6863"
     ]
    },
    {
     "name": "stderr",
     "output_type": "stream",
     "text": [
      "2024-02-07 06:52:04.144626: W external/local_tsl/tsl/framework/cpu_allocator_impl.cc:83] Allocation of 2415232000 exceeds 10% of free system memory.\n"
     ]
    },
    {
     "name": "stdout",
     "output_type": "stream",
     "text": [
      "1563/1563 [==============================] - 92s 58ms/step - loss: 0.6020 - accuracy: 0.6863 - val_loss: 0.5449 - val_accuracy: 0.7582\n",
      "Epoch 2/10\n",
      "1563/1563 [==============================] - 71s 45ms/step - loss: 0.5895 - accuracy: 0.7003 - val_loss: 0.6150 - val_accuracy: 0.6607\n",
      "Epoch 3/10\n",
      "1563/1563 [==============================] - 71s 45ms/step - loss: 0.6326 - accuracy: 0.6207 - val_loss: 0.6640 - val_accuracy: 0.5675\n",
      "Epoch 4/10\n",
      "1563/1563 [==============================] - 72s 46ms/step - loss: 0.6623 - accuracy: 0.5656 - val_loss: 0.6613 - val_accuracy: 0.5688\n",
      "Epoch 5/10\n",
      "1563/1563 [==============================] - 72s 46ms/step - loss: 0.6599 - accuracy: 0.5756 - val_loss: 0.6325 - val_accuracy: 0.6388\n",
      "Epoch 6/10\n",
      "1563/1563 [==============================] - 69s 44ms/step - loss: 0.6190 - accuracy: 0.6664 - val_loss: 0.6494 - val_accuracy: 0.6069\n",
      "Epoch 7/10\n",
      "1563/1563 [==============================] - 67s 43ms/step - loss: 0.6478 - accuracy: 0.6088 - val_loss: 0.6480 - val_accuracy: 0.6062\n",
      "Epoch 8/10\n",
      "1563/1563 [==============================] - 67s 43ms/step - loss: 0.6496 - accuracy: 0.6051 - val_loss: 0.6511 - val_accuracy: 0.5993\n",
      "Epoch 9/10\n",
      "1563/1563 [==============================] - 67s 43ms/step - loss: 0.6539 - accuracy: 0.5974 - val_loss: 0.6578 - val_accuracy: 0.5873\n",
      "Epoch 10/10\n",
      "1563/1563 [==============================] - 67s 43ms/step - loss: 0.6644 - accuracy: 0.5801 - val_loss: 0.6685 - val_accuracy: 0.5758\n"
     ]
    },
    {
     "name": "stderr",
     "output_type": "stream",
     "text": [
      "2024-02-07 07:02:54.680314: W external/local_tsl/tsl/framework/cpu_allocator_impl.cc:83] Allocation of 2415232000 exceeds 10% of free system memory.\n"
     ]
    },
    {
     "name": "stdout",
     "output_type": "stream",
     "text": [
      "2359/2359 [==============================] - 21s 9ms/step\n",
      "Results for Medium Dataset:\n",
      "Accuracy: 0.5758\n",
      "F1 Score: 0.3298\n",
      "\n",
      "Model saved as Models/RNN/medium_dataset_model.keras\n"
     ]
    }
   ],
   "source": [
    "X_train_medium = data_medium['X_train']\n",
    "# select the first 150000 samples\n",
    "X_test_medium = data_medium['X_test']\n",
    "y_train_medium = data_medium['y_train']\n",
    "y_test_medium = data_medium['y_test']\n",
    "X_train_medium = X_train_medium[:50000]\n",
    "y_train_medium = y_train_medium[:50000]\n",
    "train_and_evaluate_rnn(X_train_medium, y_train_medium, X_test_medium, y_test_medium, \"Medium Dataset\")\n",
    "del X_train_medium, y_train_medium"
   ]
  },
  {
   "cell_type": "code",
   "execution_count": 3,
   "metadata": {},
   "outputs": [
    {
     "name": "stderr",
     "output_type": "stream",
     "text": [
      "2024-02-07 07:04:39.428883: I external/local_xla/xla/stream_executor/cuda/cuda_executor.cc:901] successful NUMA node read from SysFS had negative value (-1), but there must be at least one NUMA node, so returning NUMA node zero. See more at https://github.com/torvalds/linux/blob/v6.0/Documentation/ABI/testing/sysfs-bus-pci#L344-L355\n",
      "2024-02-07 07:04:39.452535: W tensorflow/core/common_runtime/gpu/gpu_device.cc:2256] Cannot dlopen some GPU libraries. Please make sure the missing libraries mentioned above are installed properly if you would like to use GPU. Follow the guide at https://www.tensorflow.org/install/gpu for how to download and setup the required libraries for your platform.\n",
      "Skipping registering GPU devices...\n"
     ]
    },
    {
     "name": "stdout",
     "output_type": "stream",
     "text": [
      "Epoch 1/10\n"
     ]
    },
    {
     "name": "stderr",
     "output_type": "stream",
     "text": [
      "2024-02-07 07:04:40.647423: W external/local_tsl/tsl/framework/cpu_allocator_impl.cc:83] Allocation of 3159120000 exceeds 10% of free system memory.\n"
     ]
    },
    {
     "name": "stdout",
     "output_type": "stream",
     "text": [
      "1235/1235 [==============================] - 104s 83ms/step - loss: 0.5841 - accuracy: 0.6940 - val_loss: 0.6965 - val_accuracy: 0.4978\n",
      "Epoch 2/10\n",
      "1235/1235 [==============================] - 102s 82ms/step - loss: 0.6880 - accuracy: 0.5213 - val_loss: 0.6802 - val_accuracy: 0.5417\n",
      "Epoch 3/10\n",
      "1235/1235 [==============================] - 102s 82ms/step - loss: 0.5698 - accuracy: 0.7046 - val_loss: 0.5241 - val_accuracy: 0.7553\n",
      "Epoch 4/10\n",
      "1235/1235 [==============================] - 102s 82ms/step - loss: 0.5180 - accuracy: 0.7449 - val_loss: 0.4824 - val_accuracy: 0.7821\n",
      "Epoch 5/10\n",
      "1235/1235 [==============================] - 101s 82ms/step - loss: 0.6405 - accuracy: 0.5805 - val_loss: 0.6782 - val_accuracy: 0.5264\n",
      "Epoch 6/10\n",
      "1235/1235 [==============================] - 103s 83ms/step - loss: 0.5958 - accuracy: 0.6390 - val_loss: 0.4685 - val_accuracy: 0.7861\n",
      "Epoch 7/10\n",
      "1235/1235 [==============================] - 102s 82ms/step - loss: 0.6011 - accuracy: 0.6363 - val_loss: 0.6423 - val_accuracy: 0.6438\n",
      "Epoch 8/10\n",
      "1235/1235 [==============================] - 103s 84ms/step - loss: 0.5937 - accuracy: 0.6972 - val_loss: 0.5739 - val_accuracy: 0.7188\n",
      "Epoch 9/10\n",
      "1235/1235 [==============================] - 105s 85ms/step - loss: 0.5645 - accuracy: 0.7365 - val_loss: 0.5519 - val_accuracy: 0.7549\n",
      "Epoch 10/10\n",
      "1235/1235 [==============================] - 104s 84ms/step - loss: 0.5480 - accuracy: 0.7613 - val_loss: 0.5228 - val_accuracy: 0.7767\n",
      "309/309 [==============================] - 6s 20ms/step\n",
      "Results for Long Dataset:\n",
      "Accuracy: 0.7767\n",
      "F1 Score: 0.7498\n",
      "\n",
      "Model saved as Models/RNN/long_dataset_model.keras\n"
     ]
    }
   ],
   "source": [
    "X_train_long = data_long['X_train']\n",
    "X_test_long = data_long['X_test']\n",
    "y_train_long = data_long['y_train']\n",
    "y_test_long = data_long['y_test']\n",
    "train_and_evaluate_rnn(X_train_long, y_train_long, X_test_long, y_test_long, \"Long Dataset\")\n",
    "del X_train_long, y_train_long"
   ]
  }
 ],
 "metadata": {
  "kernelspec": {
   "display_name": "master_env",
   "language": "python",
   "name": "python3"
  },
  "language_info": {
   "codemirror_mode": {
    "name": "ipython",
    "version": 3
   },
   "file_extension": ".py",
   "mimetype": "text/x-python",
   "name": "python",
   "nbconvert_exporter": "python",
   "pygments_lexer": "ipython3",
   "version": "3.11.7"
  }
 },
 "nbformat": 4,
 "nbformat_minor": 2
}
