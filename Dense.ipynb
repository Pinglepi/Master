{
 "cells": [
  {
   "cell_type": "code",
   "execution_count": 1,
   "metadata": {},
   "outputs": [],
   "source": [
    "import numpy as np\n",
    "data_short = np.load('Data/lorfs_100.npz')\n",
    "data_medium = np.load('Data/lorfs_400.npz')\n",
    "data_long = np.load('Data/lorfs_1000.npz')\n",
    "\n"
   ]
  },
  {
   "cell_type": "code",
   "execution_count": 2,
   "metadata": {},
   "outputs": [
    {
     "name": "stderr",
     "output_type": "stream",
     "text": [
      "2024-02-07 02:41:13.846270: E external/local_xla/xla/stream_executor/cuda/cuda_dnn.cc:9261] Unable to register cuDNN factory: Attempting to register factory for plugin cuDNN when one has already been registered\n",
      "2024-02-07 02:41:13.846291: E external/local_xla/xla/stream_executor/cuda/cuda_fft.cc:607] Unable to register cuFFT factory: Attempting to register factory for plugin cuFFT when one has already been registered\n",
      "2024-02-07 02:41:13.847090: E external/local_xla/xla/stream_executor/cuda/cuda_blas.cc:1515] Unable to register cuBLAS factory: Attempting to register factory for plugin cuBLAS when one has already been registered\n",
      "2024-02-07 02:41:13.851106: I tensorflow/core/platform/cpu_feature_guard.cc:182] This TensorFlow binary is optimized to use available CPU instructions in performance-critical operations.\n",
      "To enable the following instructions: AVX2 FMA, in other operations, rebuild TensorFlow with the appropriate compiler flags.\n",
      "2024-02-07 02:41:14.340518: W tensorflow/compiler/tf2tensorrt/utils/py_utils.cc:38] TF-TRT Warning: Could not find TensorRT\n"
     ]
    }
   ],
   "source": [
    "import tensorflow as tf\n",
    "from sklearn.metrics import accuracy_score, f1_score\n",
    "import numpy as np\n",
    "import os\n",
    "\n",
    "def train_and_evaluate_nn(X_train, y_train, X_test, y_test, description):\n",
    "    # Define the model architecture\n",
    "    model = tf.keras.Sequential([\n",
    "        tf.keras.layers.Dense(128, activation='relu', input_shape=(X_train.shape[1],)),\n",
    "        tf.keras.layers.Dropout(0.2),\n",
    "        tf.keras.layers.Dense(64, activation='relu'),\n",
    "        tf.keras.layers.Dropout(0.2),\n",
    "        tf.keras.layers.Dense(1, activation='sigmoid')\n",
    "    ])\n",
    "    \n",
    "    # Compile the model\n",
    "    model.compile(optimizer='adam',\n",
    "                  loss='binary_crossentropy',\n",
    "                  metrics=['accuracy'])\n",
    "    \n",
    "    # Define EarlyStopping callback\n",
    "    early_stopping = tf.keras.callbacks.EarlyStopping(\n",
    "    monitor='val_loss',\n",
    "    patience=10, \n",
    "    restore_best_weights=True \n",
    "    )\n",
    "    \n",
    "    # Train the model\n",
    "    model.fit(X_train, y_train, epochs=100, batch_size=32, verbose=1, validation_data=(X_test,y_test), callbacks=[early_stopping])\n",
    "    \n",
    "    # Make predictions\n",
    "    preds = model.predict(X_test)\n",
    "    predictions = [1 if i > 0.5 else 0 for i in preds.ravel()]\n",
    "\n",
    "    # Evaluate the model\n",
    "    accuracy = accuracy_score(y_test, predictions)\n",
    "    f1 = f1_score(y_test, predictions)\n",
    "\n",
    "    # Print the results\n",
    "    print(f\"Results for {description}:\")\n",
    "    print(f\"Accuracy: {accuracy:.4f}\")\n",
    "    print(f\"F1 Score: {f1:.4f}\\n\")\n",
    "\n",
    "    # Save the model in the specified directory\n",
    "    model_dir = \"Models/Dense\"  # Specify the new directory\n",
    "    description_formatted = description.replace(' ', '_').lower()  # Format the description\n",
    "    model_filename = os.path.join(model_dir, f\"{description_formatted}_model.keras\")  # Name the file based on description\n",
    "    os.makedirs(model_dir, exist_ok=True)  # Create the directory if it doesn't exist\n",
    "    model.save(model_filename)  # Save the model\n",
    "    print(f\"Model saved as {model_filename}\")  # Print the save location\n"
   ]
  },
  {
   "cell_type": "code",
   "execution_count": 3,
   "metadata": {},
   "outputs": [
    {
     "name": "stderr",
     "output_type": "stream",
     "text": [
      "2024-02-07 02:41:21.228834: I external/local_xla/xla/stream_executor/cuda/cuda_executor.cc:901] successful NUMA node read from SysFS had negative value (-1), but there must be at least one NUMA node, so returning NUMA node zero. See more at https://github.com/torvalds/linux/blob/v6.0/Documentation/ABI/testing/sysfs-bus-pci#L344-L355\n",
      "2024-02-07 02:41:21.248822: W tensorflow/core/common_runtime/gpu/gpu_device.cc:2256] Cannot dlopen some GPU libraries. Please make sure the missing libraries mentioned above are installed properly if you would like to use GPU. Follow the guide at https://www.tensorflow.org/install/gpu for how to download and setup the required libraries for your platform.\n",
      "Skipping registering GPU devices...\n"
     ]
    },
    {
     "name": "stdout",
     "output_type": "stream",
     "text": [
      "Epoch 1/100\n",
      "8212/8212 [==============================] - 9s 1ms/step - loss: 0.6483 - accuracy: 0.6179 - val_loss: 0.6447 - val_accuracy: 0.6203\n",
      "Epoch 2/100\n",
      "8212/8212 [==============================] - 8s 999us/step - loss: 0.6360 - accuracy: 0.6309 - val_loss: 0.6469 - val_accuracy: 0.6172\n",
      "Epoch 3/100\n",
      "8212/8212 [==============================] - 8s 970us/step - loss: 0.6145 - accuracy: 0.6522 - val_loss: 0.6551 - val_accuracy: 0.6151\n",
      "Epoch 4/100\n",
      "8212/8212 [==============================] - 8s 966us/step - loss: 0.5783 - accuracy: 0.6835 - val_loss: 0.6710 - val_accuracy: 0.6078\n",
      "Epoch 5/100\n",
      "8212/8212 [==============================] - 8s 969us/step - loss: 0.5397 - accuracy: 0.7148 - val_loss: 0.6910 - val_accuracy: 0.6025\n",
      "Epoch 6/100\n",
      "8212/8212 [==============================] - 8s 985us/step - loss: 0.5053 - accuracy: 0.7394 - val_loss: 0.7329 - val_accuracy: 0.5984\n",
      "Epoch 7/100\n",
      "8212/8212 [==============================] - 8s 981us/step - loss: 0.4808 - accuracy: 0.7565 - val_loss: 0.7710 - val_accuracy: 0.5960\n",
      "Epoch 8/100\n",
      "8212/8212 [==============================] - 8s 983us/step - loss: 0.4588 - accuracy: 0.7708 - val_loss: 0.7973 - val_accuracy: 0.5933\n",
      "Epoch 9/100\n",
      "8212/8212 [==============================] - 8s 992us/step - loss: 0.4408 - accuracy: 0.7832 - val_loss: 0.8214 - val_accuracy: 0.5887\n",
      "Epoch 10/100\n",
      "8212/8212 [==============================] - 8s 999us/step - loss: 0.4255 - accuracy: 0.7931 - val_loss: 0.8398 - val_accuracy: 0.5904\n",
      "Epoch 11/100\n",
      "8212/8212 [==============================] - 8s 989us/step - loss: 0.4114 - accuracy: 0.8018 - val_loss: 0.8699 - val_accuracy: 0.5880\n",
      "2053/2053 [==============================] - 1s 415us/step\n",
      "Results for Short Dataset:\n",
      "Accuracy: 0.6203\n",
      "F1 Score: 0.6095\n",
      "\n",
      "Model saved as Models/Dense/short_dataset_model.keras\n"
     ]
    }
   ],
   "source": [
    "X_train_short = data_short['X_train']\n",
    "X_test_short = data_short['X_test']\n",
    "y_train_short = data_short['y_train']\n",
    "y_test_short = data_short['y_test']\n",
    "X_train_short = X_train_short.reshape(X_train_short.shape[0], -1)\n",
    "X_test_short = X_test_short.reshape(X_test_short.shape[0], -1)\n",
    "train_and_evaluate_nn(X_train_short, y_train_short, X_test_short, y_test_short, \"Short Dataset\")\n"
   ]
  },
  {
   "cell_type": "code",
   "execution_count": 4,
   "metadata": {},
   "outputs": [
    {
     "name": "stderr",
     "output_type": "stream",
     "text": [
      "2024-02-07 02:48:01.493457: W external/local_tsl/tsl/framework/cpu_allocator_impl.cc:83] Allocation of 9660896000 exceeds 10% of free system memory.\n"
     ]
    },
    {
     "name": "stdout",
     "output_type": "stream",
     "text": [
      "Epoch 1/100\n",
      "9426/9435 [============================>.] - ETA: 0s - loss: 0.3888 - accuracy: 0.8466"
     ]
    },
    {
     "name": "stderr",
     "output_type": "stream",
     "text": [
      "2024-02-07 02:49:47.048638: W external/local_tsl/tsl/framework/cpu_allocator_impl.cc:83] Allocation of 2415232000 exceeds 10% of free system memory.\n"
     ]
    },
    {
     "name": "stdout",
     "output_type": "stream",
     "text": [
      "9435/9435 [==============================] - 71s 7ms/step - loss: 0.3888 - accuracy: 0.8466 - val_loss: 0.3702 - val_accuracy: 0.8551\n",
      "Epoch 2/100\n",
      "9435/9435 [==============================] - 44s 5ms/step - loss: 0.3498 - accuracy: 0.8639 - val_loss: 0.3732 - val_accuracy: 0.8523\n",
      "Epoch 3/100\n",
      "9435/9435 [==============================] - 44s 5ms/step - loss: 0.3112 - accuracy: 0.8791 - val_loss: 0.3946 - val_accuracy: 0.8510\n",
      "Epoch 4/100\n",
      "9435/9435 [==============================] - 44s 5ms/step - loss: 0.2778 - accuracy: 0.8901 - val_loss: 0.4171 - val_accuracy: 0.8482\n",
      "Epoch 5/100\n",
      "9435/9435 [==============================] - 42s 4ms/step - loss: 0.2459 - accuracy: 0.9017 - val_loss: 0.4381 - val_accuracy: 0.8424\n",
      "Epoch 6/100\n",
      "9435/9435 [==============================] - 43s 5ms/step - loss: 0.2181 - accuracy: 0.9132 - val_loss: 0.4800 - val_accuracy: 0.8372\n",
      "Epoch 7/100\n",
      "9435/9435 [==============================] - 44s 5ms/step - loss: 0.1914 - accuracy: 0.9252 - val_loss: 0.5334 - val_accuracy: 0.8318\n",
      "Epoch 8/100\n",
      "9435/9435 [==============================] - 43s 5ms/step - loss: 0.1682 - accuracy: 0.9348 - val_loss: 0.6018 - val_accuracy: 0.8305\n",
      "Epoch 9/100\n",
      "9435/9435 [==============================] - 44s 5ms/step - loss: 0.1492 - accuracy: 0.9430 - val_loss: 0.6252 - val_accuracy: 0.8258\n",
      "Epoch 10/100\n",
      "9435/9435 [==============================] - 44s 5ms/step - loss: 0.1334 - accuracy: 0.9506 - val_loss: 0.6802 - val_accuracy: 0.8243\n",
      "Epoch 11/100\n",
      "9435/9435 [==============================] - 44s 5ms/step - loss: 0.1217 - accuracy: 0.9551 - val_loss: 0.6861 - val_accuracy: 0.8190\n",
      " 169/2359 [=>............................] - ETA: 1s"
     ]
    },
    {
     "name": "stderr",
     "output_type": "stream",
     "text": [
      "2024-02-07 02:57:07.311888: W external/local_tsl/tsl/framework/cpu_allocator_impl.cc:83] Allocation of 2415232000 exceeds 10% of free system memory.\n"
     ]
    },
    {
     "name": "stdout",
     "output_type": "stream",
     "text": [
      "2359/2359 [==============================] - 1s 562us/step\n",
      "Results for Medium Dataset:\n",
      "Accuracy: 0.8551\n",
      "F1 Score: 0.8430\n",
      "\n",
      "Model saved as Models/Dense/medium_dataset_model.keras\n"
     ]
    }
   ],
   "source": [
    "X_train_medium = data_medium['X_train']\n",
    "X_test_medium = data_medium['X_test']\n",
    "y_train_medium = data_medium['y_train']\n",
    "y_test_medium = data_medium['y_test']\n",
    "X_train_medium = X_train_medium.reshape(X_train_medium.shape[0], -1)\n",
    "X_test_medium = X_test_medium.reshape(X_test_medium.shape[0], -1)\n",
    "train_and_evaluate_nn(X_train_medium, y_train_medium, X_test_medium, y_test_medium, \"Medium Dataset\")"
   ]
  },
  {
   "cell_type": "code",
   "execution_count": 5,
   "metadata": {},
   "outputs": [
    {
     "name": "stderr",
     "output_type": "stream",
     "text": [
      "2024-02-07 02:57:45.846493: W external/local_tsl/tsl/framework/cpu_allocator_impl.cc:83] Allocation of 3159120000 exceeds 10% of free system memory.\n"
     ]
    },
    {
     "name": "stdout",
     "output_type": "stream",
     "text": [
      "Epoch 1/100\n",
      "1235/1235 [==============================] - 15s 12ms/step - loss: 0.3273 - accuracy: 0.8859 - val_loss: 0.2772 - val_accuracy: 0.9041\n",
      "Epoch 2/100\n",
      "1235/1235 [==============================] - 13s 10ms/step - loss: 0.1801 - accuracy: 0.9343 - val_loss: 0.3127 - val_accuracy: 0.8985\n",
      "Epoch 3/100\n",
      "1235/1235 [==============================] - 13s 11ms/step - loss: 0.0670 - accuracy: 0.9784 - val_loss: 0.4376 - val_accuracy: 0.8906\n",
      "Epoch 4/100\n",
      "1235/1235 [==============================] - 13s 11ms/step - loss: 0.0336 - accuracy: 0.9892 - val_loss: 0.5591 - val_accuracy: 0.8958\n",
      "Epoch 5/100\n",
      "1235/1235 [==============================] - 13s 10ms/step - loss: 0.0270 - accuracy: 0.9909 - val_loss: 0.6717 - val_accuracy: 0.8910\n",
      "Epoch 6/100\n",
      "1235/1235 [==============================] - 13s 10ms/step - loss: 0.0204 - accuracy: 0.9934 - val_loss: 0.6637 - val_accuracy: 0.8883\n",
      "Epoch 7/100\n",
      "1235/1235 [==============================] - 13s 11ms/step - loss: 0.0217 - accuracy: 0.9939 - val_loss: 0.7608 - val_accuracy: 0.8924\n",
      "Epoch 8/100\n",
      "1235/1235 [==============================] - 13s 10ms/step - loss: 0.0177 - accuracy: 0.9951 - val_loss: 0.7904 - val_accuracy: 0.8914\n",
      "Epoch 9/100\n",
      "1235/1235 [==============================] - 13s 11ms/step - loss: 0.0173 - accuracy: 0.9952 - val_loss: 0.8447 - val_accuracy: 0.8927\n",
      "Epoch 10/100\n",
      "1235/1235 [==============================] - 13s 10ms/step - loss: 0.0158 - accuracy: 0.9958 - val_loss: 0.7770 - val_accuracy: 0.8918\n",
      "Epoch 11/100\n",
      "1235/1235 [==============================] - 13s 10ms/step - loss: 0.0144 - accuracy: 0.9957 - val_loss: 0.7914 - val_accuracy: 0.8934\n",
      "309/309 [==============================] - 0s 882us/step\n",
      "Results for Long Dataset:\n",
      "Accuracy: 0.9041\n",
      "F1 Score: 0.9079\n",
      "\n",
      "Model saved as Models/Dense/long_dataset_model.keras\n"
     ]
    }
   ],
   "source": [
    "X_train_long = data_long['X_train']\n",
    "X_test_long = data_long['X_test']\n",
    "y_train_long = data_long['y_train']\n",
    "y_test_long = data_long['y_test']\n",
    "X_train_long = X_train_long.reshape(X_train_long.shape[0], -1)\n",
    "X_test_long = X_test_long.reshape(X_test_long.shape[0], -1)\n",
    "train_and_evaluate_nn(X_train_long, y_train_long, X_test_long, y_test_long, \"Long Dataset\")"
   ]
  }
 ],
 "metadata": {
  "kernelspec": {
   "display_name": "master_env",
   "language": "python",
   "name": "python3"
  },
  "language_info": {
   "codemirror_mode": {
    "name": "ipython",
    "version": 3
   },
   "file_extension": ".py",
   "mimetype": "text/x-python",
   "name": "python",
   "nbconvert_exporter": "python",
   "pygments_lexer": "ipython3",
   "version": "3.12.1"
  }
 },
 "nbformat": 4,
 "nbformat_minor": 2
}
